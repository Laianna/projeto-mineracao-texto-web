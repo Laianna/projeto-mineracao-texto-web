{
 "cells": [
  {
   "cell_type": "markdown",
   "id": "3c5809ab",
   "metadata": {},
   "source": [
    "# Mineração de Texto e Web - Projeto: Construção de um Sistema de Monitoramento de Reviews\n",
    "\n",
    "### Alunas:\n",
    "- **Laianna Lana Virginio da Silva** - *llvs2@cin.ufpe.br*\n",
    "- **Liviany Reis Rodrigues** - *lrr@cin.ufpe.br*"
   ]
  },
  {
   "cell_type": "markdown",
   "id": "0961c456",
   "metadata": {},
   "source": [
    "# Informações do Projeto\n",
    "\n",
    "### Link do GitHub:\n",
    "- https://github.com/Laianna/projeto-mineracao-texto-web\n",
    "\n",
    "### Produto a Ser Monitorado:\n",
    "- Smartwatch Xiaomi Mi Band 4 Oled Preto\n",
    "\n",
    "### Fonte de Dados:\n",
    "- https://www.amazon.com.br/Smartwatch-Xiaomi-Preto-Original-Lacrado/dp/B07SNG23JW/ref=cm_cr_arp_d_product_top?ie=UTF8"
   ]
  },
  {
   "cell_type": "markdown",
   "id": "81417be0",
   "metadata": {},
   "source": [
    "# Bibliotecas"
   ]
  },
  {
   "cell_type": "code",
   "execution_count": 1,
   "id": "444f5710",
   "metadata": {},
   "outputs": [],
   "source": [
    "#####################################################################\n",
    "\n",
    "import pandas as pd\n",
    "import numpy as np\n",
    "\n",
    "from sklearn.feature_extraction.text import CountVectorizer\n",
    "from sklearn.cluster import KMeans\n",
    "from scipy.spatial import distance\n",
    "\n",
    "#####################################################################"
   ]
  },
  {
   "cell_type": "code",
   "execution_count": 2,
   "id": "95efde42",
   "metadata": {},
   "outputs": [],
   "source": [
    "SEED = 42"
   ]
  },
  {
   "cell_type": "markdown",
   "id": "b3e3abeb",
   "metadata": {},
   "source": [
    "# Base de Dados"
   ]
  },
  {
   "cell_type": "markdown",
   "id": "53923c51",
   "metadata": {},
   "source": [
    "## Carregamento dos Dados"
   ]
  },
  {
   "cell_type": "code",
   "execution_count": 3,
   "id": "eefb91b3",
   "metadata": {},
   "outputs": [
    {
     "data": {
      "text/html": [
       "<div>\n",
       "<style scoped>\n",
       "    .dataframe tbody tr th:only-of-type {\n",
       "        vertical-align: middle;\n",
       "    }\n",
       "\n",
       "    .dataframe tbody tr th {\n",
       "        vertical-align: top;\n",
       "    }\n",
       "\n",
       "    .dataframe thead th {\n",
       "        text-align: right;\n",
       "    }\n",
       "</style>\n",
       "<table border=\"1\" class=\"dataframe\">\n",
       "  <thead>\n",
       "    <tr style=\"text-align: right;\">\n",
       "      <th></th>\n",
       "      <th>Review</th>\n",
       "      <th>Estrela</th>\n",
       "      <th>Data</th>\n",
       "    </tr>\n",
       "  </thead>\n",
       "  <tbody>\n",
       "    <tr>\n",
       "      <th>0</th>\n",
       "      <td>No anúncio informa que a pulseira é a versão g...</td>\n",
       "      <td>1</td>\n",
       "      <td>2019-07-17</td>\n",
       "    </tr>\n",
       "  </tbody>\n",
       "</table>\n",
       "</div>"
      ],
      "text/plain": [
       "                                              Review  Estrela       Data\n",
       "0  No anúncio informa que a pulseira é a versão g...        1 2019-07-17"
      ]
     },
     "execution_count": 3,
     "metadata": {},
     "output_type": "execute_result"
    }
   ],
   "source": [
    "df = pd.read_csv(\"Dados/avaliações.csv\", parse_dates = [\"Data\"])\n",
    "df.head(1)"
   ]
  },
  {
   "cell_type": "markdown",
   "id": "94d32caf",
   "metadata": {},
   "source": [
    "## Formatando os Tipos"
   ]
  },
  {
   "cell_type": "code",
   "execution_count": 4,
   "id": "64db9da7",
   "metadata": {},
   "outputs": [
    {
     "data": {
      "text/plain": [
       "Review             object\n",
       "Estrela             int64\n",
       "Data       datetime64[ns]\n",
       "dtype: object"
      ]
     },
     "execution_count": 4,
     "metadata": {},
     "output_type": "execute_result"
    }
   ],
   "source": [
    "df.dtypes"
   ]
  },
  {
   "cell_type": "code",
   "execution_count": 5,
   "id": "97293de6",
   "metadata": {},
   "outputs": [],
   "source": [
    "df[\"Review\"] = df[\"Review\"].astype(\"string\")"
   ]
  },
  {
   "cell_type": "code",
   "execution_count": 6,
   "id": "ea218256",
   "metadata": {},
   "outputs": [
    {
     "data": {
      "text/plain": [
       "Review             string\n",
       "Estrela             int64\n",
       "Data       datetime64[ns]\n",
       "dtype: object"
      ]
     },
     "execution_count": 6,
     "metadata": {},
     "output_type": "execute_result"
    }
   ],
   "source": [
    "df.dtypes"
   ]
  },
  {
   "cell_type": "markdown",
   "id": "fe770c16",
   "metadata": {},
   "source": [
    "# Pré-Processamento da Classe"
   ]
  },
  {
   "cell_type": "markdown",
   "id": "5c9424e4",
   "metadata": {},
   "source": [
    "**Recodificando a coluna \"Estrela\" para *Negativo* e *Positivo*:**\n",
    "\n",
    "- **Negativo:** 1 ★ 2 ★ 3 ★\n",
    "\n",
    "- **Positivo:** 4 ★ 5 ★"
   ]
  },
  {
   "cell_type": "code",
   "execution_count": 7,
   "id": "6d2487d8",
   "metadata": {},
   "outputs": [],
   "source": [
    "def recodificar_classe(estrela):\n",
    "\n",
    "    if estrela == 4 or estrela == 5:\n",
    "        return 1 # positivo\n",
    "    else:\n",
    "        return 0 # negativo"
   ]
  },
  {
   "cell_type": "code",
   "execution_count": 8,
   "id": "acca2fd2",
   "metadata": {},
   "outputs": [],
   "source": [
    "df[\"classe\"] = df[\"Estrela\"].apply(lambda estrela: recodificar_classe(estrela))"
   ]
  },
  {
   "cell_type": "markdown",
   "id": "9ea6dee8",
   "metadata": {},
   "source": [
    "# Reviews Mais Representativas"
   ]
  },
  {
   "cell_type": "markdown",
   "id": "a30f3328",
   "metadata": {},
   "source": [
    "## Formatando os Dados de Entrada"
   ]
  },
  {
   "cell_type": "markdown",
   "id": "aafd8157",
   "metadata": {},
   "source": [
    "Usamos o CountVectorizer do BoW para encontrar uma representação númerica para as reviews."
   ]
  },
  {
   "cell_type": "code",
   "execution_count": 9,
   "id": "693e2d2f",
   "metadata": {},
   "outputs": [],
   "source": [
    "def formatar_entrada_rf_bow(dados, mf = 1000):\n",
    "    \n",
    "    matriz = CountVectorizer(max_features = mf)\n",
    "    X = matriz.fit_transform(dados).toarray()\n",
    "    \n",
    "    return X"
   ]
  },
  {
   "cell_type": "code",
   "execution_count": 10,
   "id": "39a1024b",
   "metadata": {},
   "outputs": [],
   "source": [
    "mf = 50"
   ]
  },
  {
   "cell_type": "code",
   "execution_count": 11,
   "id": "848a4692",
   "metadata": {},
   "outputs": [],
   "source": [
    "X = formatar_entrada_rf_bow(df[\"Review\"], mf)\n",
    "y = df['classe']"
   ]
  },
  {
   "cell_type": "markdown",
   "id": "9eef458c",
   "metadata": {},
   "source": [
    "## Cálculo"
   ]
  },
  {
   "cell_type": "markdown",
   "id": "f3acf0ff",
   "metadata": {},
   "source": [
    "2 cluters para representar as duas classes. Lembrando que é necessário transformar as reviews de string para uma representação vetorial númerica antes de passar para o Kmeans."
   ]
  },
  {
   "cell_type": "code",
   "execution_count": 12,
   "id": "b75fd476",
   "metadata": {},
   "outputs": [],
   "source": [
    "kmeans = KMeans(n_clusters = 2, random_state = SEED).fit(X, y)"
   ]
  },
  {
   "cell_type": "markdown",
   "id": "f9aa7db9",
   "metadata": {},
   "source": [
    "## Checando os Clusters do Kmeans"
   ]
  },
  {
   "cell_type": "markdown",
   "id": "90436fc9",
   "metadata": {},
   "source": [
    "### Negativo"
   ]
  },
  {
   "cell_type": "code",
   "execution_count": 13,
   "id": "b63e5c89",
   "metadata": {},
   "outputs": [
    {
     "data": {
      "text/plain": [
       "array([0.10890465, 0.08652482, 0.08510638, 0.10953507, 0.20063042,\n",
       "       0.19054374, 0.12608353, 0.03546099, 0.05626478, 0.06635146,\n",
       "       0.22111899, 0.04775414, 0.05311269, 0.21245075, 0.03372734,\n",
       "       0.10591017, 0.08037825, 0.05594957, 0.03750985, 0.12655634,\n",
       "       0.05925926, 0.03798266, 0.03624901, 0.06540583, 0.04617809,\n",
       "       0.05973207, 0.03829787, 0.36910954, 0.04712372, 0.07817179,\n",
       "       0.12923562, 0.0750197 , 0.11615445, 0.10811663, 0.41229314,\n",
       "       0.04491726, 0.06272656, 0.16044129, 0.10543735, 0.05263987,\n",
       "       0.05263987, 0.02616233, 0.02789598, 0.06887313, 0.03404255,\n",
       "       0.07659574, 0.06540583, 0.04586288, 0.05153664, 0.1605989 ])"
      ]
     },
     "execution_count": 13,
     "metadata": {},
     "output_type": "execute_result"
    }
   ],
   "source": [
    "kmeans.cluster_centers_[0]"
   ]
  },
  {
   "cell_type": "markdown",
   "id": "0a93e654",
   "metadata": {},
   "source": [
    "### Positivo"
   ]
  },
  {
   "cell_type": "code",
   "execution_count": 14,
   "id": "3c2696bc",
   "metadata": {},
   "outputs": [
    {
     "data": {
      "text/plain": [
       "array([0.11979823, 0.34930643, 0.4148802 , 0.4110971 , 0.18789407,\n",
       "       0.23581337, 0.81084489, 0.2370744 , 0.07944515, 0.44010088,\n",
       "       2.09583859, 0.24968474, 0.29129887, 0.75535939, 0.30264817,\n",
       "       0.5964691 , 0.13871375, 0.22068096, 0.33165195, 0.13871375,\n",
       "       0.04035309, 0.19672131, 0.21437579, 0.13114754, 0.39470366,\n",
       "       0.48297604, 0.21815889, 0.73896595, 0.29760404, 0.48423707,\n",
       "       1.07313997, 0.1147541 , 0.91677175, 0.11601513, 0.63934426,\n",
       "       0.30769231, 0.110971  , 1.55737705, 0.17654477, 0.25851198,\n",
       "       0.09457755, 0.30264817, 0.33921816, 0.14754098, 0.24211854,\n",
       "       0.15006305, 0.54981084, 0.35308953, 0.14501892, 0.16519546])"
      ]
     },
     "execution_count": 14,
     "metadata": {},
     "output_type": "execute_result"
    }
   ],
   "source": [
    "kmeans.cluster_centers_[1]"
   ]
  },
  {
   "cell_type": "markdown",
   "id": "9730880f",
   "metadata": {},
   "source": [
    "## Calculando a Distância do Centro Para Cada Review"
   ]
  },
  {
   "cell_type": "code",
   "execution_count": 15,
   "id": "3e6e8b1d",
   "metadata": {},
   "outputs": [],
   "source": [
    "distancia = []\n",
    "\n",
    "for i, (linha, classe) in enumerate(zip(X, y)):\n",
    "    \n",
    "    distancia.append(distance.euclidean(linha, kmeans.cluster_centers_[y[i]]))"
   ]
  },
  {
   "cell_type": "code",
   "execution_count": 16,
   "id": "b1853985",
   "metadata": {},
   "outputs": [],
   "source": [
    "df[\"distancia\"] = distancia"
   ]
  },
  {
   "cell_type": "markdown",
   "id": "965c84a1",
   "metadata": {},
   "source": [
    "### Pegando as *N* Reviews Mais Representativas"
   ]
  },
  {
   "cell_type": "code",
   "execution_count": 17,
   "id": "a425bf6d",
   "metadata": {},
   "outputs": [],
   "source": [
    "num_representativas = 20\n",
    "reviews_representativas_negativas = df[df[\"classe\"] == 0].nsmallest(num_representativas, 'distancia')\n",
    "reviews_representativas_positivas = df[df[\"classe\"] == 1].nsmallest(num_representativas, 'distancia')"
   ]
  },
  {
   "cell_type": "markdown",
   "id": "45ecb289",
   "metadata": {},
   "source": [
    "## Exportando para um .csv"
   ]
  },
  {
   "cell_type": "code",
   "execution_count": 18,
   "id": "0153dd6d",
   "metadata": {},
   "outputs": [],
   "source": [
    "colunas = [\"Review\", \"Estrela\", \"Data\", \"classe\", \"distancia\"]"
   ]
  },
  {
   "cell_type": "code",
   "execution_count": 19,
   "id": "28733550",
   "metadata": {},
   "outputs": [],
   "source": [
    "reviews_representativas_negativas[colunas].to_csv(f'./Dados/{num_representativas}_reviews_representativas_negativas.csv', index = True)\n",
    "reviews_representativas_positivas[colunas].to_csv(f'./Dados/{num_representativas}_reviews_representativas_positivas.csv', index = True)"
   ]
  },
  {
   "cell_type": "code",
   "execution_count": 20,
   "id": "cc09decd",
   "metadata": {},
   "outputs": [],
   "source": [
    "# Para ler o .csv\n",
    "#teste = pd.read_csv(\"./Dados/20_reviews_representativas_negativas.csv\", parse_dates = [\"Data\"], index_col = 0)\n",
    "#df.head(1)"
   ]
  }
 ],
 "metadata": {
  "kernelspec": {
   "display_name": "Python 3 (ipykernel)",
   "language": "python",
   "name": "python3"
  },
  "language_info": {
   "codemirror_mode": {
    "name": "ipython",
    "version": 3
   },
   "file_extension": ".py",
   "mimetype": "text/x-python",
   "name": "python",
   "nbconvert_exporter": "python",
   "pygments_lexer": "ipython3",
   "version": "3.9.7"
  }
 },
 "nbformat": 4,
 "nbformat_minor": 5
}
