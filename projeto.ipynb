{
 "cells": [
  {
   "cell_type": "markdown",
   "id": "3c5809ab",
   "metadata": {},
   "source": [
    "# Mineração de Texto e Web - Projeto: Construção de um Sistema de Monitoramento de Reviews\n",
    "\n",
    "### Alunas:\n",
    "- **Laianna Lana Virginio da Silva** - *llvs2@cin.ufpe.br*\n",
    "- **Liviany Reis Rodrigues** - *lrr@cin.ufpe.br*"
   ]
  },
  {
   "cell_type": "markdown",
   "id": "0961c456",
   "metadata": {},
   "source": [
    "# Informações do Projeto\n",
    "\n",
    "### Link do GitHub:\n",
    "- https://github.com/Laianna/projeto-mineracao-texto-web\n",
    "\n",
    "### Produto a Ser Monitorado:\n",
    "- Smartwatch Xiaomi Mi Band 4 Oled Preto\n",
    "\n",
    "### Fonte de Dados:\n",
    "- https://www.amazon.com.br/Smartwatch-Xiaomi-Preto-Original-Lacrado/dp/B07SNG23JW/ref=cm_cr_arp_d_product_top?ie=UTF8"
   ]
  },
  {
   "cell_type": "markdown",
   "id": "81417be0",
   "metadata": {},
   "source": [
    "# Bibliotecas"
   ]
  },
  {
   "cell_type": "code",
   "execution_count": 1,
   "id": "444f5710",
   "metadata": {},
   "outputs": [],
   "source": [
    "#####################################################################\n",
    "\n",
    "import pandas as pd\n",
    "import numpy as np\n",
    "\n",
    "#####################################################################\n",
    "\n",
    "from tqdm import tqdm\n",
    "tqdm.pandas()\n",
    "\n",
    "#####################################################################\n",
    "\n",
    "from sklearn.metrics import classification_report\n",
    "\n",
    "from sklearn.feature_extraction.text import CountVectorizer\n",
    "from sklearn.ensemble import RandomForestClassifier\n",
    "\n",
    "from sklearn.model_selection import train_test_split\n",
    "\n",
    "#####################################################################\n",
    "\n",
    "from gensim.models import Word2Vec\n",
    "\n",
    "#####################################################################\n",
    "\n",
    "import seaborn as sns\n",
    "from matplotlib import pyplot as plt\n",
    "from sklearn.metrics import confusion_matrix\n",
    "\n",
    "#####################################################################\n",
    "\n",
    "import torch\n",
    "\n",
    "import torch.nn as nn\n",
    "import torch.nn.functional as F\n",
    "\n",
    "import torch.optim as optim\n",
    "import torch.backends.cudnn as cudnn\n",
    "\n",
    "import torchvision.transforms as transforms\n",
    "\n",
    "from torch.utils.data.dataloader import DataLoader\n",
    "\n",
    "#####################################################################\n",
    "\n",
    "import nltk\n",
    "from nltk.stem import SnowballStemmer\n",
    "\n",
    "#####################################################################\n",
    "\n",
    "#SPACY\n",
    "import spacy\n",
    "\n",
    "#####################################################################\n",
    "\n",
    "import tensorflow as tf\n",
    "\n",
    "from tensorflow.keras.optimizers import Adam\n",
    "from tensorflow.keras.losses import SparseCategoricalCrossentropy\n",
    "from tensorflow.keras.metrics import SparseCategoricalAccuracy\n",
    "\n",
    "from transformers import BertTokenizer\n",
    "from transformers import TFBertForSequenceClassification\n",
    "\n",
    "#####################################################################"
   ]
  },
  {
   "cell_type": "code",
   "execution_count": 4,
   "id": "95efde42",
   "metadata": {},
   "outputs": [],
   "source": [
    "SEED = 42"
   ]
  },
  {
   "cell_type": "code",
   "execution_count": 2,
   "id": "03949622",
   "metadata": {},
   "outputs": [
    {
     "name": "stdout",
     "output_type": "stream",
     "text": [
      "[PhysicalDevice(name='/physical_device:CPU:0', device_type='CPU')]\n"
     ]
    },
    {
     "data": {
      "text/plain": [
       "[PhysicalDevice(name='/physical_device:CPU:0', device_type='CPU')]"
      ]
     },
     "execution_count": 2,
     "metadata": {},
     "output_type": "execute_result"
    }
   ],
   "source": [
    "# force CPU (make CPU visible)\n",
    "cpus = tf.config.experimental.list_physical_devices('CPU')\n",
    "print(cpus)\n",
    "tf.config.set_visible_devices([], 'GPU')  # hide the GPU\n",
    "tf.config.set_visible_devices(cpus[0], 'CPU') # unhide potentially hidden CPU\n",
    "tf.config.get_visible_devices()"
   ]
  },
  {
   "cell_type": "markdown",
   "id": "b3e3abeb",
   "metadata": {},
   "source": [
    "# Base de Dados"
   ]
  },
  {
   "cell_type": "markdown",
   "id": "53923c51",
   "metadata": {},
   "source": [
    "## Carregamento dos Dados"
   ]
  },
  {
   "cell_type": "code",
   "execution_count": 5,
   "id": "eefb91b3",
   "metadata": {},
   "outputs": [
    {
     "data": {
      "text/html": [
       "<div>\n",
       "<style scoped>\n",
       "    .dataframe tbody tr th:only-of-type {\n",
       "        vertical-align: middle;\n",
       "    }\n",
       "\n",
       "    .dataframe tbody tr th {\n",
       "        vertical-align: top;\n",
       "    }\n",
       "\n",
       "    .dataframe thead th {\n",
       "        text-align: right;\n",
       "    }\n",
       "</style>\n",
       "<table border=\"1\" class=\"dataframe\">\n",
       "  <thead>\n",
       "    <tr style=\"text-align: right;\">\n",
       "      <th></th>\n",
       "      <th>Review</th>\n",
       "      <th>Estrela</th>\n",
       "      <th>Data</th>\n",
       "    </tr>\n",
       "  </thead>\n",
       "  <tbody>\n",
       "    <tr>\n",
       "      <th>0</th>\n",
       "      <td>No anúncio informa que a pulseira é a versão g...</td>\n",
       "      <td>1</td>\n",
       "      <td>2019-07-17</td>\n",
       "    </tr>\n",
       "  </tbody>\n",
       "</table>\n",
       "</div>"
      ],
      "text/plain": [
       "                                              Review  Estrela       Data\n",
       "0  No anúncio informa que a pulseira é a versão g...        1 2019-07-17"
      ]
     },
     "execution_count": 5,
     "metadata": {},
     "output_type": "execute_result"
    }
   ],
   "source": [
    "df = pd.read_csv(\"Dados/avaliações.csv\", parse_dates = [\"Data\"])\n",
    "df.head(1)"
   ]
  },
  {
   "cell_type": "markdown",
   "id": "b0070d0d",
   "metadata": {},
   "source": [
    "## Checando Dados Duplicados"
   ]
  },
  {
   "cell_type": "code",
   "execution_count": 6,
   "id": "6dc48056",
   "metadata": {},
   "outputs": [
    {
     "data": {
      "text/plain": [
       "True"
      ]
     },
     "execution_count": 6,
     "metadata": {},
     "output_type": "execute_result"
    }
   ],
   "source": [
    "df.duplicated().any()"
   ]
  },
  {
   "cell_type": "markdown",
   "id": "fa6d62da",
   "metadata": {},
   "source": [
    "Resultado deu *True*. Logo, não existem dados duplicados."
   ]
  },
  {
   "cell_type": "markdown",
   "id": "805cb690",
   "metadata": {},
   "source": [
    "## Checando as Informações"
   ]
  },
  {
   "cell_type": "code",
   "execution_count": 7,
   "id": "aa4745dd",
   "metadata": {},
   "outputs": [
    {
     "name": "stdout",
     "output_type": "stream",
     "text": [
      "Linhas: 7138, Colunas: 3\n"
     ]
    }
   ],
   "source": [
    "print(f\"Linhas: {df.shape[0]}, Colunas: {df.shape[1]}\")"
   ]
  },
  {
   "cell_type": "code",
   "execution_count": 8,
   "id": "816a1976",
   "metadata": {},
   "outputs": [
    {
     "name": "stdout",
     "output_type": "stream",
     "text": [
      "<class 'pandas.core.frame.DataFrame'>\n",
      "RangeIndex: 7138 entries, 0 to 7137\n",
      "Data columns (total 3 columns):\n",
      " #   Column   Non-Null Count  Dtype         \n",
      "---  ------   --------------  -----         \n",
      " 0   Review   7138 non-null   object        \n",
      " 1   Estrela  7138 non-null   int64         \n",
      " 2   Data     7138 non-null   datetime64[ns]\n",
      "dtypes: datetime64[ns](1), int64(1), object(1)\n",
      "memory usage: 167.4+ KB\n"
     ]
    }
   ],
   "source": [
    "df.info()"
   ]
  },
  {
   "cell_type": "code",
   "execution_count": 9,
   "id": "818496b8",
   "metadata": {},
   "outputs": [
    {
     "data": {
      "text/plain": [
       "5    6154\n",
       "4     593\n",
       "1     237\n",
       "3     102\n",
       "2      52\n",
       "Name: Estrela, dtype: int64"
      ]
     },
     "execution_count": 9,
     "metadata": {},
     "output_type": "execute_result"
    }
   ],
   "source": [
    "df[\"Estrela\"].value_counts()"
   ]
  },
  {
   "cell_type": "code",
   "execution_count": 10,
   "id": "790ffaaf",
   "metadata": {},
   "outputs": [
    {
     "data": {
      "text/plain": [
       "2020    4253\n",
       "2019    2343\n",
       "2021     507\n",
       "2022      35\n",
       "Name: Data, dtype: int64"
      ]
     },
     "execution_count": 10,
     "metadata": {},
     "output_type": "execute_result"
    }
   ],
   "source": [
    "df[\"Data\"].dt.year.value_counts()"
   ]
  },
  {
   "cell_type": "markdown",
   "id": "ac8a7754",
   "metadata": {},
   "source": [
    "Lembrando que o produto foi lançado no meio de 2019."
   ]
  },
  {
   "cell_type": "markdown",
   "id": "94d32caf",
   "metadata": {},
   "source": [
    "## Formatando os Tipos"
   ]
  },
  {
   "cell_type": "code",
   "execution_count": 11,
   "id": "64db9da7",
   "metadata": {},
   "outputs": [
    {
     "data": {
      "text/plain": [
       "Review             object\n",
       "Estrela             int64\n",
       "Data       datetime64[ns]\n",
       "dtype: object"
      ]
     },
     "execution_count": 11,
     "metadata": {},
     "output_type": "execute_result"
    }
   ],
   "source": [
    "df.dtypes"
   ]
  },
  {
   "cell_type": "code",
   "execution_count": 12,
   "id": "97293de6",
   "metadata": {},
   "outputs": [],
   "source": [
    "df[\"Review\"] = df[\"Review\"].astype(\"string\")"
   ]
  },
  {
   "cell_type": "code",
   "execution_count": 13,
   "id": "ea218256",
   "metadata": {},
   "outputs": [
    {
     "data": {
      "text/plain": [
       "Review             string\n",
       "Estrela             int64\n",
       "Data       datetime64[ns]\n",
       "dtype: object"
      ]
     },
     "execution_count": 13,
     "metadata": {},
     "output_type": "execute_result"
    }
   ],
   "source": [
    "df.dtypes"
   ]
  },
  {
   "cell_type": "markdown",
   "id": "fe770c16",
   "metadata": {},
   "source": [
    "# Pré-Processamento da Classe"
   ]
  },
  {
   "cell_type": "markdown",
   "id": "5c9424e4",
   "metadata": {},
   "source": [
    "**Recodificando a coluna \"Estrela\" para *Negativo* e *Positivo*:**\n",
    "\n",
    "- **Negativo:** 1 ★ 2 ★ 3 ★\n",
    "\n",
    "- **Positivo:** 4 ★ 5 ★"
   ]
  },
  {
   "cell_type": "code",
   "execution_count": 14,
   "id": "6d2487d8",
   "metadata": {},
   "outputs": [],
   "source": [
    "def recodificar_classe(estrela):\n",
    "\n",
    "    if estrela == 4 or estrela == 5:\n",
    "        return 1 # positivo\n",
    "    else:\n",
    "        return 0 # negativo"
   ]
  },
  {
   "cell_type": "code",
   "execution_count": 15,
   "id": "acca2fd2",
   "metadata": {},
   "outputs": [],
   "source": [
    "df[\"classe\"] = df[\"Estrela\"].apply(lambda estrela: recodificar_classe(estrela))"
   ]
  },
  {
   "cell_type": "code",
   "execution_count": 16,
   "id": "f2b00174",
   "metadata": {},
   "outputs": [
    {
     "data": {
      "text/plain": [
       "1    6747\n",
       "0     391\n",
       "Name: classe, dtype: int64"
      ]
     },
     "execution_count": 16,
     "metadata": {},
     "output_type": "execute_result"
    }
   ],
   "source": [
    "df[\"classe\"].value_counts()"
   ]
  },
  {
   "cell_type": "markdown",
   "id": "2a8eed4d",
   "metadata": {},
   "source": [
    "O dataset está muito desbalanceado."
   ]
  },
  {
   "cell_type": "code",
   "execution_count": 17,
   "id": "326d73d2",
   "metadata": {},
   "outputs": [
    {
     "data": {
      "text/plain": [
       "1    0.945223\n",
       "0    0.054777\n",
       "Name: classe, dtype: float64"
      ]
     },
     "execution_count": 17,
     "metadata": {},
     "output_type": "execute_result"
    }
   ],
   "source": [
    "df[\"classe\"].value_counts(normalize = True)"
   ]
  },
  {
   "cell_type": "markdown",
   "id": "2268e4b0",
   "metadata": {},
   "source": [
    "94.52% do dataset contém reviews positivas e 5.48% negativas."
   ]
  },
  {
   "cell_type": "markdown",
   "id": "cbb4d056",
   "metadata": {},
   "source": [
    "# Pré-Processamento do Texto"
   ]
  },
  {
   "cell_type": "markdown",
   "id": "39f6503c",
   "metadata": {},
   "source": [
    "## Tokenização"
   ]
  },
  {
   "cell_type": "markdown",
   "id": "ae00e9a2",
   "metadata": {},
   "source": [
    "Abaixo fizemos o processo de tokenização sem nenhum tipo de pré-processamento além de caixa baixa. Lembrando que na \n",
    "[`definição do projeto`](https://github.com/ProfLuciano/mineracao_texto/blob/main/slides/intro.pdf)\n",
    "é pedido apenas com e sem stemming. Os outros tipos de pré-processamento (remoção de pontuação, palavras vazias, caixa baixa,  lematização, etc) ficaram apenas como adicional para quem desejar."
   ]
  },
  {
   "cell_type": "code",
   "execution_count": 18,
   "id": "63b82088",
   "metadata": {},
   "outputs": [],
   "source": [
    "df[\"tokenizacao\"] = df.apply(lambda linha: nltk.word_tokenize(linha[\"Review\"].lower(), language = 'portuguese'), axis = 1)"
   ]
  },
  {
   "cell_type": "code",
   "execution_count": 20,
   "id": "95411b1e",
   "metadata": {},
   "outputs": [
    {
     "data": {
      "text/plain": [
       "637"
      ]
     },
     "execution_count": 20,
     "metadata": {},
     "output_type": "execute_result"
    }
   ],
   "source": [
    "# tamanho máximo das reviews na base de dados sem nenhum pré-processamento\n",
    "max(df.apply(lambda row: len(row['tokenizacao']), axis = 1))"
   ]
  },
  {
   "cell_type": "markdown",
   "id": "43d8feba",
   "metadata": {},
   "source": [
    "## Stemming"
   ]
  },
  {
   "cell_type": "markdown",
   "id": "cebd97ea",
   "metadata": {},
   "source": [
    "Para fazer o stemming vamos usar o [`SnowballStemmer`](https://www.nltk.org/api/nltk.stem.snowball.html) da biblioteca NLTK, indicando que o idioma do texto está em português."
   ]
  },
  {
   "cell_type": "code",
   "execution_count": 21,
   "id": "804a85dc",
   "metadata": {},
   "outputs": [],
   "source": [
    "def aplicando_stemming(texto):\n",
    "    \n",
    "    stemmer = SnowballStemmer('portuguese')\n",
    "    texto_stemming = [stemmer.stem(palavra) for palavra in texto]\n",
    "    \n",
    "    #return texto_stemming\n",
    "    return \" \".join(texto_stemming)"
   ]
  },
  {
   "cell_type": "code",
   "execution_count": 22,
   "id": "778c3539",
   "metadata": {},
   "outputs": [
    {
     "data": {
      "text/html": [
       "<div>\n",
       "<style scoped>\n",
       "    .dataframe tbody tr th:only-of-type {\n",
       "        vertical-align: middle;\n",
       "    }\n",
       "\n",
       "    .dataframe tbody tr th {\n",
       "        vertical-align: top;\n",
       "    }\n",
       "\n",
       "    .dataframe thead th {\n",
       "        text-align: right;\n",
       "    }\n",
       "</style>\n",
       "<table border=\"1\" class=\"dataframe\">\n",
       "  <thead>\n",
       "    <tr style=\"text-align: right;\">\n",
       "      <th></th>\n",
       "      <th>tokenizacao</th>\n",
       "      <th>stemming</th>\n",
       "      <th>stemming_tkn</th>\n",
       "    </tr>\n",
       "  </thead>\n",
       "  <tbody>\n",
       "    <tr>\n",
       "      <th>0</th>\n",
       "      <td>[no, anúncio, informa, que, a, pulseira, é, a,...</td>\n",
       "      <td>no anúnci inform que a pulseir é a versã globa...</td>\n",
       "      <td>[no, anúnci, inform, que, a, pulseir, é, a, ve...</td>\n",
       "    </tr>\n",
       "    <tr>\n",
       "      <th>1</th>\n",
       "      <td>[realizei, a, compra, de, 2, duas, mi, band, 4...</td>\n",
       "      <td>realiz a compr de 2 duas mi band 4 pel port st...</td>\n",
       "      <td>[realiz, a, compr, de, 2, duas, mi, band, 4, p...</td>\n",
       "    </tr>\n",
       "    <tr>\n",
       "      <th>2</th>\n",
       "      <td>[comprei, 2, mi, bands, ,, não, tem, nem, 1, s...</td>\n",
       "      <td>compr 2 mi bands , nã tem nem 1 seman . a bat ...</td>\n",
       "      <td>[compr, 2, mi, bands, ,, nã, tem, nem, 1, sema...</td>\n",
       "    </tr>\n",
       "    <tr>\n",
       "      <th>3</th>\n",
       "      <td>[anúncio, enganoso, ,, a, pulseira, é, na, ver...</td>\n",
       "      <td>anúnci engan , a pulseir é na versã chines , n...</td>\n",
       "      <td>[anúnci, engan, ,, a, pulseir, é, na, versã, c...</td>\n",
       "    </tr>\n",
       "    <tr>\n",
       "      <th>4</th>\n",
       "      <td>[produto, com, defeito, ., efetuei, a, devoluç...</td>\n",
       "      <td>produt com defeit . efetu a devolu , assum o c...</td>\n",
       "      <td>[produt, com, defeit, ., efetu, a, devolu, ,, ...</td>\n",
       "    </tr>\n",
       "  </tbody>\n",
       "</table>\n",
       "</div>"
      ],
      "text/plain": [
       "                                         tokenizacao  \\\n",
       "0  [no, anúncio, informa, que, a, pulseira, é, a,...   \n",
       "1  [realizei, a, compra, de, 2, duas, mi, band, 4...   \n",
       "2  [comprei, 2, mi, bands, ,, não, tem, nem, 1, s...   \n",
       "3  [anúncio, enganoso, ,, a, pulseira, é, na, ver...   \n",
       "4  [produto, com, defeito, ., efetuei, a, devoluç...   \n",
       "\n",
       "                                            stemming  \\\n",
       "0  no anúnci inform que a pulseir é a versã globa...   \n",
       "1  realiz a compr de 2 duas mi band 4 pel port st...   \n",
       "2  compr 2 mi bands , nã tem nem 1 seman . a bat ...   \n",
       "3  anúnci engan , a pulseir é na versã chines , n...   \n",
       "4  produt com defeit . efetu a devolu , assum o c...   \n",
       "\n",
       "                                        stemming_tkn  \n",
       "0  [no, anúnci, inform, que, a, pulseir, é, a, ve...  \n",
       "1  [realiz, a, compr, de, 2, duas, mi, band, 4, p...  \n",
       "2  [compr, 2, mi, bands, ,, nã, tem, nem, 1, sema...  \n",
       "3  [anúnci, engan, ,, a, pulseir, é, na, versã, c...  \n",
       "4  [produt, com, defeit, ., efetu, a, devolu, ,, ...  "
      ]
     },
     "execution_count": 22,
     "metadata": {},
     "output_type": "execute_result"
    }
   ],
   "source": [
    "df[\"stemming\"] = df[\"tokenizacao\"].apply(lambda linha: aplicando_stemming(linha))\n",
    "df[\"stemming_tkn\"] = df.apply(lambda linha: nltk.word_tokenize(linha[\"stemming\"], language = 'portuguese'), axis = 1)\n",
    "df[[\"tokenizacao\", \"stemming\", \"stemming_tkn\"]].head(5)"
   ]
  },
  {
   "cell_type": "markdown",
   "id": "56679556",
   "metadata": {},
   "source": [
    "Note que o texto depois de passar pelo SnowballStemmer é retornado em caixa baixa."
   ]
  },
  {
   "cell_type": "code",
   "execution_count": 23,
   "id": "41fdd3fe",
   "metadata": {},
   "outputs": [
    {
     "data": {
      "text/plain": [
       "637"
      ]
     },
     "execution_count": 23,
     "metadata": {},
     "output_type": "execute_result"
    }
   ],
   "source": [
    "# tamanho máximo das reviews na base de dados usando stemming\n",
    "max(df.apply(lambda row: len(row[\"stemming_tkn\"]), axis = 1))"
   ]
  },
  {
   "cell_type": "markdown",
   "id": "5495f075",
   "metadata": {},
   "source": [
    "# Separando o Dataset em Treino e Teste"
   ]
  },
  {
   "cell_type": "code",
   "execution_count": 24,
   "id": "7febe736",
   "metadata": {},
   "outputs": [],
   "source": [
    "test_size_1 = 0.20\n",
    "test_size_2 = 0.30"
   ]
  },
  {
   "cell_type": "code",
   "execution_count": 25,
   "id": "ba7e897f",
   "metadata": {},
   "outputs": [],
   "source": [
    "y = df[\"classe\"]"
   ]
  },
  {
   "cell_type": "markdown",
   "id": "e4d4071a",
   "metadata": {},
   "source": [
    "## Dados Pré-Processados Sem Stemming"
   ]
  },
  {
   "cell_type": "code",
   "execution_count": 26,
   "id": "d44b761d",
   "metadata": {},
   "outputs": [],
   "source": [
    "X = df[\"tokenizacao\"]"
   ]
  },
  {
   "cell_type": "code",
   "execution_count": 27,
   "id": "1427f0a8",
   "metadata": {},
   "outputs": [],
   "source": [
    "X_treino, X_teste, y_treino, y_teste = train_test_split(X, y, test_size = test_size_1, random_state = SEED, stratify = y)\n",
    "X_treino, X_valid, y_treino, y_valid = train_test_split(X_treino, y_treino, test_size = test_size_2, random_state = SEED, stratify = y_treino)"
   ]
  },
  {
   "cell_type": "markdown",
   "id": "513dfd4b",
   "metadata": {},
   "source": [
    "## Dados Pré-Processados Com Stemming"
   ]
  },
  {
   "cell_type": "code",
   "execution_count": 28,
   "id": "c82bc956",
   "metadata": {},
   "outputs": [],
   "source": [
    "X_treino_stem = df[\"stemming_tkn\"][X_treino.index.tolist()]\n",
    "X_valid_stem = df[\"stemming_tkn\"][X_valid.index.tolist()]\n",
    "X_teste_stem = df[\"stemming_tkn\"][X_teste.index.tolist()]\n",
    "\n",
    "y_treino_stem = df[\"classe\"][y_treino.index.tolist()]\n",
    "y_valid_stem = df[\"classe\"][y_valid.index.tolist()]\n",
    "y_teste_stem = df[\"classe\"][y_teste.index.tolist()]"
   ]
  },
  {
   "cell_type": "markdown",
   "id": "b092d7ad",
   "metadata": {},
   "source": [
    "## Checando os tamanhos"
   ]
  },
  {
   "cell_type": "code",
   "execution_count": 29,
   "id": "6793a33a",
   "metadata": {},
   "outputs": [
    {
     "data": {
      "text/plain": [
       "3997"
      ]
     },
     "execution_count": 29,
     "metadata": {},
     "output_type": "execute_result"
    }
   ],
   "source": [
    "len(X_treino)"
   ]
  },
  {
   "cell_type": "code",
   "execution_count": 30,
   "id": "dedc0032",
   "metadata": {},
   "outputs": [
    {
     "data": {
      "text/plain": [
       "1    3778\n",
       "0     219\n",
       "Name: classe, dtype: int64"
      ]
     },
     "execution_count": 30,
     "metadata": {},
     "output_type": "execute_result"
    }
   ],
   "source": [
    "y_treino.value_counts()"
   ]
  },
  {
   "cell_type": "code",
   "execution_count": 31,
   "id": "a7424e63",
   "metadata": {},
   "outputs": [
    {
     "data": {
      "text/plain": [
       "1713"
      ]
     },
     "execution_count": 31,
     "metadata": {},
     "output_type": "execute_result"
    }
   ],
   "source": [
    "len(X_valid)"
   ]
  },
  {
   "cell_type": "code",
   "execution_count": 32,
   "id": "f550a179",
   "metadata": {},
   "outputs": [
    {
     "data": {
      "text/plain": [
       "1    1619\n",
       "0      94\n",
       "Name: classe, dtype: int64"
      ]
     },
     "execution_count": 32,
     "metadata": {},
     "output_type": "execute_result"
    }
   ],
   "source": [
    "y_valid.value_counts()"
   ]
  },
  {
   "cell_type": "code",
   "execution_count": 33,
   "id": "5b7adbb1",
   "metadata": {},
   "outputs": [
    {
     "data": {
      "text/plain": [
       "1428"
      ]
     },
     "execution_count": 33,
     "metadata": {},
     "output_type": "execute_result"
    }
   ],
   "source": [
    "len(X_teste)"
   ]
  },
  {
   "cell_type": "code",
   "execution_count": 34,
   "id": "2535c17a",
   "metadata": {},
   "outputs": [
    {
     "data": {
      "text/plain": [
       "1    1350\n",
       "0      78\n",
       "Name: classe, dtype: int64"
      ]
     },
     "execution_count": 34,
     "metadata": {},
     "output_type": "execute_result"
    }
   ],
   "source": [
    "y_teste.value_counts()"
   ]
  },
  {
   "cell_type": "markdown",
   "id": "c82a6721",
   "metadata": {},
   "source": [
    "# Random Forest com Bag of Words"
   ]
  },
  {
   "cell_type": "markdown",
   "id": "1f36a24b",
   "metadata": {},
   "source": [
    "Vamos pegar apenas as N (por padrão 1000) palavras mais frequentes no vocabulário para prosseguir com a análise.\n",
    "Para isso, definimos o parâmetro \"*max_features*\" quando chamamos o CountVectorizer e geramos uma matriz com as N palavras mais frequentes. Cada linha da matriz indica a presença ou ausência das palavras (agora colunas na matriz) na Review.\n",
    "Depois disso, usamos o Random Forest para predizer a classe. Por fim, exibimos o *F1*, a *precisão* e o *recall* com o Relatório de classificação."
   ]
  },
  {
   "cell_type": "code",
   "execution_count": 35,
   "id": "7962f21c",
   "metadata": {},
   "outputs": [],
   "source": [
    "def relatorio(y, y_pred, digitos = 4):\n",
    "    \n",
    "    print('Relatório de classificação:\\n', classification_report(y, y_pred, digits = digitos, target_names = [\"Negativo\", \"Positivo\"], zero_division = 1))"
   ]
  },
  {
   "cell_type": "code",
   "execution_count": 36,
   "id": "8b60a1fe",
   "metadata": {},
   "outputs": [],
   "source": [
    "def matriz_de_confusao(y, y_pred):\n",
    "\n",
    "    cm = confusion_matrix(y, y_pred)\n",
    "    fig, ax = plt.subplots()\n",
    "    \n",
    "    sns.heatmap(cm, annot = True,\n",
    "                xticklabels = ['Falso', 'Verdadeiro'],\n",
    "                yticklabels = ['Falso', 'Verdadeiro'],\n",
    "                fmt = \"d\", cbar = False)\n",
    "\n",
    "    ax.set_title('Matriz de Confusão')    \n",
    "    fig.set_size_inches(5, 5)"
   ]
  },
  {
   "cell_type": "code",
   "execution_count": 37,
   "id": "df43e997",
   "metadata": {},
   "outputs": [],
   "source": [
    "def relatorio_matriz(y, y_pred, digitos = 4):\n",
    "    \n",
    "    relatorio(y, y_pred, digitos)\n",
    "    matriz_de_confusao(y, y_pred)    "
   ]
  },
  {
   "cell_type": "code",
   "execution_count": 38,
   "id": "874056a2",
   "metadata": {},
   "outputs": [],
   "source": [
    "def rf(X, y):\n",
    "    \n",
    "    classificador = RandomForestClassifier()\n",
    "    classificador.fit(X, y)\n",
    "    \n",
    "    return classificador"
   ]
  },
  {
   "cell_type": "code",
   "execution_count": 120,
   "id": "693e2d2f",
   "metadata": {},
   "outputs": [],
   "source": [
    "def formatar_entrada_rf_bow(dados, mf = 1000):\n",
    "    \n",
    "    matriz = CountVectorizer(max_features = mf)\n",
    "    X = matriz.fit_transform(dados).toarray()\n",
    "    \n",
    "    return X"
   ]
  },
  {
   "cell_type": "code",
   "execution_count": 121,
   "id": "dd57d3e3",
   "metadata": {},
   "outputs": [],
   "source": [
    "def rf_bow(dados, classe, mf = 1000):\n",
    "    \n",
    "    X = formatar_entrada_rf_bow(dados, mf)\n",
    "    y = classe\n",
    "    \n",
    "    classificador = rf(X, y)\n",
    "\n",
    "    #print(len(matriz.get_feature_names_out()))    \n",
    "    \n",
    "    return classificador"
   ]
  },
  {
   "cell_type": "code",
   "execution_count": 123,
   "id": "2dbb6250",
   "metadata": {},
   "outputs": [],
   "source": [
    "mf = 1700"
   ]
  },
  {
   "cell_type": "markdown",
   "id": "a4c9dca3",
   "metadata": {},
   "source": [
    "### Sem Pré-Processamento de Texto"
   ]
  },
  {
   "cell_type": "code",
   "execution_count": 124,
   "id": "a418ebc7",
   "metadata": {},
   "outputs": [],
   "source": [
    "classificador = rf_bow(dados = df['Review'][X_treino.index.tolist()], classe = df['classe'][y_treino.index.tolist()], mf = mf)"
   ]
  },
  {
   "cell_type": "code",
   "execution_count": 125,
   "id": "3983a3b8",
   "metadata": {},
   "outputs": [],
   "source": [
    "y_pred_rf_bow_tkn = classificador.predict(formatar_entrada_rf_bow(df['Review'][X_teste.index.tolist()], mf))"
   ]
  },
  {
   "cell_type": "code",
   "execution_count": 126,
   "id": "885f573d",
   "metadata": {},
   "outputs": [
    {
     "name": "stdout",
     "output_type": "stream",
     "text": [
      "Relatório de classificação:\n",
      "               precision    recall  f1-score   support\n",
      "\n",
      "    Negativo     0.2083    0.1282    0.1587        78\n",
      "    Positivo     0.9507    0.9719    0.9612      1350\n",
      "\n",
      "    accuracy                         0.9258      1428\n",
      "   macro avg     0.5795    0.5500    0.5600      1428\n",
      "weighted avg     0.9102    0.9258    0.9173      1428\n",
      "\n"
     ]
    },
    {
     "data": {
      "image/png": "[encoded data removed]",
      "text/plain": [
       "<Figure size 360x360 with 1 Axes>"
      ]
     },
     "metadata": {
      "needs_background": "light"
     },
     "output_type": "display_data"
    }
   ],
   "source": [
    "relatorio_matriz(df['classe'][y_teste.index.tolist()], y_pred_rf_bow_tkn)"
   ]
  },
  {
   "cell_type": "markdown",
   "id": "01c3c6fd",
   "metadata": {},
   "source": [
    "### Com Stemming"
   ]
  },
  {
   "cell_type": "code",
   "execution_count": 127,
   "id": "6bdb96d9",
   "metadata": {},
   "outputs": [],
   "source": [
    "classificador = rf_bow(dados = df[\"stemming\"][X_treino_stem.index.tolist()], classe = df['classe'][y_treino_stem.index.tolist()], mf = mf)"
   ]
  },
  {
   "cell_type": "code",
   "execution_count": 128,
   "id": "620c9c85",
   "metadata": {},
   "outputs": [],
   "source": [
    "y_pred_rf_bow_stem = classificador.predict(formatar_entrada_rf_bow(df[\"stemming\"][X_teste_stem.index.tolist()], mf))"
   ]
  },
  {
   "cell_type": "code",
   "execution_count": 129,
   "id": "01e9f597",
   "metadata": {},
   "outputs": [
    {
     "name": "stdout",
     "output_type": "stream",
     "text": [
      "Relatório de classificação:\n",
      "               precision    recall  f1-score   support\n",
      "\n",
      "    Negativo     0.1071    0.1538    0.1263        78\n",
      "    Positivo     0.9498    0.9259    0.9377      1350\n",
      "\n",
      "    accuracy                         0.8838      1428\n",
      "   macro avg     0.5285    0.5399    0.5320      1428\n",
      "weighted avg     0.9038    0.8838    0.8934      1428\n",
      "\n"
     ]
    },
    {
     "data": {
      "image/png": "[encoded data removed]",
      "text/plain": [
       "<Figure size 360x360 with 1 Axes>"
      ]
     },
     "metadata": {
      "needs_background": "light"
     },
     "output_type": "display_data"
    }
   ],
   "source": [
    "relatorio_matriz(df['classe'][y_teste_stem.index.tolist()], y_pred_rf_bow_stem)"
   ]
  },
  {
   "cell_type": "markdown",
   "id": "a91926aa",
   "metadata": {},
   "source": [
    "O resultado do Classificador Random Forest com Bag of Words não foi muito bom...\n",
    "\n",
    "Lembrando que o modelo muda de acordo com a variação no parâmetro *max_features*."
   ]
  },
  {
   "cell_type": "markdown",
   "id": "0420a91c",
   "metadata": {},
   "source": [
    "# Redes Neurais"
   ]
  },
  {
   "cell_type": "markdown",
   "id": "2239737e",
   "metadata": {},
   "source": [
    "## Treinamento do Modelo"
   ]
  },
  {
   "cell_type": "markdown",
   "id": "57bb7370",
   "metadata": {},
   "source": [
    "Treinamos o modelo usando o Word2Vec com todos os tokens que aparecem nas reviews.\n",
    "\n",
    "Vale lembrar que como o modelo vai ser treinando usando todos os tokens, então mais para frente a gente não vai precisar fazer a verificação se a palavra encontra-se ou não no dicionário. Se nós tivéssemos pego um modelo pronto ou caso fôssemos utilizar esse modelo treinado por nós para outro dataset, era necessário fazer a verificação das palavras no dicionário."
   ]
  },
  {
   "cell_type": "markdown",
   "id": "0c84a177",
   "metadata": {},
   "source": [
    "### Sem Pré-Processamento do Texto"
   ]
  },
  {
   "cell_type": "code",
   "execution_count": 50,
   "id": "2aa993ec",
   "metadata": {},
   "outputs": [],
   "source": [
    "modelo_w2v_tkn = Word2Vec(df[\"tokenizacao\"], vector_size = 100, window = 5, min_count = 1, workers = 4)"
   ]
  },
  {
   "cell_type": "code",
   "execution_count": 51,
   "id": "6914a122",
   "metadata": {},
   "outputs": [
    {
     "data": {
      "text/plain": [
       "(6443, 100)"
      ]
     },
     "execution_count": 51,
     "metadata": {},
     "output_type": "execute_result"
    }
   ],
   "source": [
    "tam_vocab_w2v_tkn = modelo_w2v_tkn.wv.vectors.shape\n",
    "tam_vocab_w2v_tkn"
   ]
  },
  {
   "cell_type": "markdown",
   "id": "78eea431",
   "metadata": {},
   "source": [
    "### Com Stemming"
   ]
  },
  {
   "cell_type": "code",
   "execution_count": 52,
   "id": "b5d42cdc",
   "metadata": {},
   "outputs": [],
   "source": [
    "modelo_w2v_stem = Word2Vec(df[\"stemming_tkn\"], vector_size = 100, window = 5, min_count = 1, workers = 4)"
   ]
  },
  {
   "cell_type": "code",
   "execution_count": 53,
   "id": "dd563865",
   "metadata": {},
   "outputs": [
    {
     "data": {
      "text/plain": [
       "(3933, 100)"
      ]
     },
     "execution_count": 53,
     "metadata": {},
     "output_type": "execute_result"
    }
   ],
   "source": [
    "tam_vocab_w2v_stem = modelo_w2v_stem.wv.vectors.shape\n",
    "tam_vocab_w2v_stem"
   ]
  },
  {
   "cell_type": "markdown",
   "id": "bb008248",
   "metadata": {},
   "source": [
    "### Checando os modelos"
   ]
  },
  {
   "cell_type": "markdown",
   "id": "851a5f3c",
   "metadata": {},
   "source": [
    "Vamos checar nos dois modelos quais palavras são mais similares a palavra *bom*"
   ]
  },
  {
   "cell_type": "code",
   "execution_count": 54,
   "id": "4aea9e58",
   "metadata": {},
   "outputs": [
    {
     "data": {
      "text/plain": [
       "[('excelente', 0.955264151096344),\n",
       " ('ótimo', 0.9533548355102539),\n",
       " ('gostei', 0.9311394691467285),\n",
       " ('funcional', 0.9275509119033813),\n",
       " ('bonito', 0.9215478301048279),\n",
       " ('bacana', 0.9193645119667053),\n",
       " ('resumindo', 0.9191482663154602),\n",
       " ('eficiente', 0.9178067445755005),\n",
       " ('lindo', 0.9160403609275818),\n",
       " ('aparentemente', 0.9152727723121643)]"
      ]
     },
     "execution_count": 54,
     "metadata": {},
     "output_type": "execute_result"
    }
   ],
   "source": [
    "modelo_w2v_tkn.wv.most_similar(positive = 'bom')"
   ]
  },
  {
   "cell_type": "code",
   "execution_count": 55,
   "id": "e2b777e8",
   "metadata": {},
   "outputs": [
    {
     "data": {
      "text/plain": [
       "[('excelent', 0.9344902038574219),\n",
       " ('ótim', 0.9333053231239319),\n",
       " ('bonit', 0.9273422360420227),\n",
       " ('gost', 0.916689932346344),\n",
       " ('material', 0.9156326651573181),\n",
       " ('confort', 0.911762535572052),\n",
       " ('qualidad', 0.9116054773330688),\n",
       " ('lind', 0.9063152074813843),\n",
       " ('recom', 0.9029057025909424),\n",
       " ('custo/benefíci', 0.8945326805114746)]"
      ]
     },
     "execution_count": 55,
     "metadata": {},
     "output_type": "execute_result"
    }
   ],
   "source": [
    "modelo_w2v_stem.wv.most_similar(positive = 'bom')"
   ]
  },
  {
   "cell_type": "markdown",
   "id": "d08e77a4",
   "metadata": {},
   "source": [
    "Os dois modelos aparecem com as palavras *execelente*, *ótimo*, *gostei*, *bonito* e *lindo* no top 10 semelhança com a palavra *bom*."
   ]
  },
  {
   "cell_type": "markdown",
   "id": "72f7c85f",
   "metadata": {},
   "source": [
    "### Checando o Tamanho das Entradas"
   ]
  },
  {
   "cell_type": "markdown",
   "id": "71655d7f",
   "metadata": {},
   "source": [
    "Vamos checar qual o tamanho máximo dos tokens na base de dados e também olhar o histograma para ver como se comporta a distribuição da quantidade de tokens por frase."
   ]
  },
  {
   "cell_type": "code",
   "execution_count": 56,
   "id": "995a1d40",
   "metadata": {},
   "outputs": [
    {
     "name": "stdout",
     "output_type": "stream",
     "text": [
      "637\n"
     ]
    },
    {
     "data": {
      "text/plain": [
       "<AxesSubplot:>"
      ]
     },
     "execution_count": 56,
     "metadata": {},
     "output_type": "execute_result"
    },
    {
     "data": {
      "image/png": "[encoded data removed]",
      "text/plain": [
       "<Figure size 432x288 with 1 Axes>"
      ]
     },
     "metadata": {
      "needs_background": "light"
     },
     "output_type": "display_data"
    }
   ],
   "source": [
    "tam = df['tokenizacao'].apply(len)\n",
    "\n",
    "print(np.max(tam))\n",
    "\n",
    "tam.hist()"
   ]
  },
  {
   "cell_type": "code",
   "execution_count": 57,
   "id": "c198bbbc",
   "metadata": {},
   "outputs": [
    {
     "data": {
      "text/plain": [
       "74"
      ]
     },
     "execution_count": 57,
     "metadata": {},
     "output_type": "execute_result"
    }
   ],
   "source": [
    "corte = int(np.percentile(tam.values, 97))\n",
    "corte"
   ]
  },
  {
   "cell_type": "markdown",
   "id": "089a27ec",
   "metadata": {},
   "source": [
    "Com isso descobrimos que 97% das avaliações tem no máximo 74 tokens. Vamos usar esse valor a seguir para delimitar a quantidade de tokens por frase que iremos usar."
   ]
  },
  {
   "cell_type": "markdown",
   "id": "710786cb",
   "metadata": {},
   "source": [
    "## Padronizando a Entrada"
   ]
  },
  {
   "cell_type": "markdown",
   "id": "36c7c9b5",
   "metadata": {},
   "source": [
    "Como os reviews possuem tamanhos diferentes, vamos padronizar o tamanho usando padding e vamos substituir os tokens pela representação deles no modelo treinado anteriormente com o Word2Vec.\n",
    "\n",
    "A gente usa a variável *num_max_tokens* para delimitar a quantidade máxima de tokens a serem utilizados. O padrão da função é 637 que é a quantidade máxima de tokens nas reviews, ou seja, sem aplicar nenhum tipo de pré-processamento além da caixa baixa, mas nós não vamos usar esse valor padrão."
   ]
  },
  {
   "cell_type": "code",
   "execution_count": 58,
   "id": "5259c716",
   "metadata": {},
   "outputs": [],
   "source": [
    "def formatar_entrada(tokens, modelo, num_max_tokens = 637):\n",
    "\n",
    "    entrada = np.zeros((num_max_tokens, modelo.vector_size))\n",
    "\n",
    "    for i in range(len(tokens)):\n",
    "        if i < num_max_tokens:\n",
    "            entrada[i] = modelo.wv[str(tokens[i])]\n",
    "\n",
    "    return entrada"
   ]
  },
  {
   "cell_type": "markdown",
   "id": "dd7b6d46",
   "metadata": {},
   "source": [
    "Vamos trunkar a quantidade de tokens na entrada de acordo com a variável *corte*, visto que, essa variável leva em conta o tamanho máximo de tokens de todas as reviews da base de dados.\n",
    "\n",
    "É melhor trunkar os tokens de acordo com o tamanho da maioria do que adicionar um *padding* enorme por causa de poucas reviews longas. Afinal, adicionar muito padding pode interferir no resultado."
   ]
  },
  {
   "cell_type": "markdown",
   "id": "8a0deae2",
   "metadata": {},
   "source": [
    "### Sem Pré-Processamento"
   ]
  },
  {
   "cell_type": "code",
   "execution_count": 59,
   "id": "bc60fc4e",
   "metadata": {},
   "outputs": [],
   "source": [
    "entrada_treino_tkn = X_treino.apply(lambda linha: formatar_entrada(linha, modelo_w2v_tkn, corte))\n",
    "entrada_teste_tkn  =  X_teste.apply(lambda linha: formatar_entrada(linha, modelo_w2v_tkn, corte))\n",
    "entrada_valid_tkn  =  X_valid.apply(lambda linha: formatar_entrada(linha, modelo_w2v_tkn, corte))"
   ]
  },
  {
   "cell_type": "markdown",
   "id": "19c6700c",
   "metadata": {},
   "source": [
    "### Com Stemming"
   ]
  },
  {
   "cell_type": "code",
   "execution_count": 60,
   "id": "394e8f1c",
   "metadata": {},
   "outputs": [],
   "source": [
    "entrada_treino_stem = X_treino_stem.apply(lambda linha: formatar_entrada(linha, modelo_w2v_stem, corte))\n",
    "entrada_teste_stem  =  X_teste_stem.apply(lambda linha: formatar_entrada(linha, modelo_w2v_stem, corte))\n",
    "entrada_valid_stem  =  X_valid_stem.apply(lambda linha: formatar_entrada(linha, modelo_w2v_stem, corte))"
   ]
  },
  {
   "cell_type": "markdown",
   "id": "3e4fdb7e",
   "metadata": {},
   "source": [
    "## Definindo o DataLoader"
   ]
  },
  {
   "cell_type": "markdown",
   "id": "6257375b",
   "metadata": {},
   "source": [
    "Define o DataLoader utilizando os dados já separados em treino, teste e validação.\n",
    "\n",
    "É necessário dropar o último batch quando vamos montar o DataLoader pois ele tem um tamanho menor que os outros. Devido a isso, o último batch causa um problema de dimensionamento do hidden state e cell state do LSTM."
   ]
  },
  {
   "cell_type": "code",
   "execution_count": 61,
   "id": "4415ed3c",
   "metadata": {},
   "outputs": [],
   "source": [
    "tam_batch = 32"
   ]
  },
  {
   "cell_type": "code",
   "execution_count": 62,
   "id": "6bf425f8",
   "metadata": {},
   "outputs": [],
   "source": [
    "def criando_data_loader(X, y, tam_batch = 32):\n",
    "    \n",
    "    X_ = np.asarray(X.to_list(), dtype = np.float32)\n",
    "    y_ = np.asarray(y).astype('float32').reshape(-1)\n",
    "    \n",
    "    X_loader = DataLoader(X_, batch_size = tam_batch, shuffle = True, drop_last = True)\n",
    "    y_loader = DataLoader(y_, batch_size = tam_batch, shuffle = True, drop_last = True)\n",
    "    \n",
    "    return X_loader, y_loader"
   ]
  },
  {
   "cell_type": "markdown",
   "id": "9f43726a",
   "metadata": {},
   "source": [
    "### Sem Pré-Processamento"
   ]
  },
  {
   "cell_type": "code",
   "execution_count": 63,
   "id": "27fa8e68",
   "metadata": {},
   "outputs": [],
   "source": [
    "X_treino_loader_tkn, y_treino_loader_tkn = criando_data_loader(entrada_treino_tkn, y_treino)\n",
    "X_teste_loader_tkn,  y_teste_loader_tkn  = criando_data_loader(entrada_teste_tkn,  y_teste)\n",
    "X_valid_loader_tkn,  y_valid_loader_tkn  = criando_data_loader(entrada_valid_tkn,  y_valid)"
   ]
  },
  {
   "cell_type": "markdown",
   "id": "33b9b33c",
   "metadata": {},
   "source": [
    "### Com Stemming"
   ]
  },
  {
   "cell_type": "code",
   "execution_count": 64,
   "id": "5be07f75",
   "metadata": {},
   "outputs": [],
   "source": [
    "X_treino_loader_stem, y_treino_loader_stem = criando_data_loader(entrada_treino_stem, y_treino_stem)\n",
    "X_teste_loader_stem,  y_teste_loader_stem  = criando_data_loader(entrada_teste_stem,  y_teste_stem)\n",
    "X_valid_loader_stem,  y_valid_loader_stem  = criando_data_loader(entrada_valid_stem,  y_valid_stem)"
   ]
  },
  {
   "cell_type": "markdown",
   "id": "7eac6565",
   "metadata": {},
   "source": [
    "## Funções de Treinamento e Validação"
   ]
  },
  {
   "cell_type": "markdown",
   "id": "95a70579",
   "metadata": {},
   "source": [
    "Abaixo vamor definir as funções de treinamento e validação que serão usadas na CNN e na LSTM.\n",
    "\n",
    "As funções foram separadas pois a LSTM precisa da manipulação do hidden state e cell state (que chamamos de *h* no código abaixo)."
   ]
  },
  {
   "cell_type": "markdown",
   "id": "a320d4dd",
   "metadata": {},
   "source": [
    "### CNN"
   ]
  },
  {
   "cell_type": "markdown",
   "id": "b09c299b",
   "metadata": {},
   "source": [
    "#### Função para Treinamento"
   ]
  },
  {
   "cell_type": "code",
   "execution_count": 65,
   "id": "b7246c99",
   "metadata": {},
   "outputs": [],
   "source": [
    "def treinamento_cnn(X_treino_loader, y_treino_loader, modelo, criterio, otimizador, epoca):\n",
    "\n",
    "    perda_treino = 0\n",
    "    \n",
    "    #print(\"Iniciando o Treinamento da época {epoca}\")  \n",
    "    \n",
    "    modelo.train()\n",
    "\n",
    "    for i, (x, y) in enumerate(zip(X_treino_loader, y_treino_loader)):\n",
    "\n",
    "        # move os tensores para GPU, se aplicável\n",
    "        if usar_gpu == True:\n",
    "            x = x.cuda()\n",
    "            y = y.cuda()\n",
    "            \n",
    "        # Zera o gradiente de todas as variávels do otimizador \n",
    "        otimizador.zero_grad()\n",
    "\n",
    "        # Faz um forward no modelo passando x como entrada\n",
    "        y_pred = modelo(x)\n",
    "        \n",
    "        # Calcula a loss do batch\n",
    "        perda = criterio(y, y_pred)\n",
    "\n",
    "        # Computa o gradiente (backward na loss)\n",
    "        perda.backward()\n",
    "\n",
    "        # Otimização\n",
    "        otimizador.step()\n",
    "        \n",
    "        # Atualização da loss de treinamento\n",
    "        perda_treino += perda\n",
    "\n",
    "    perda_treino = perda_treino/len(X_treino_loader.dataset)\n",
    "    print(f\"Epoca {epoca + 1} \\t Loss de Treinamento: {perda_treino}\")\n",
    "    \n",
    "    #print(f\"Terminando o treinamendo da época {epoca}\")"
   ]
  },
  {
   "cell_type": "markdown",
   "id": "b62fdc58",
   "metadata": {},
   "source": [
    "#### Função para Validação"
   ]
  },
  {
   "cell_type": "code",
   "execution_count": 66,
   "id": "9a3efb18",
   "metadata": {},
   "outputs": [],
   "source": [
    "def validacao_cnn(X_valid_loader, y_valid_loader, modelo, criterio, epoca):\n",
    "    \n",
    "    perda_valid = 0\n",
    "    \n",
    "    #print(\"Iniciando a validação da época {epoca}\")      \n",
    "    \n",
    "    modelo.eval()\n",
    "\n",
    "    for i, (x, y) in enumerate(zip(X_valid_loader, y_valid_loader)):\n",
    "        \n",
    "        # move os tensores para GPU, se aplicável\n",
    "        if usar_gpu == True:\n",
    "            x = x.cuda()\n",
    "            y = y.cuda()\n",
    "            \n",
    "        # Faz um forward no modelo passando x como entrada\n",
    "        y_pred = modelo(x)\n",
    "\n",
    "        # Calcula a loss do batch\n",
    "        perda = criterio(y, y_pred)\n",
    "        \n",
    "        # Atualização da loss de treinamento\n",
    "        perda_valid += perda\n",
    "\n",
    "    perda_valid = perda_valid/len(X_valid_loader.dataset)\n",
    "    print(f\"Epoca {epoca + 1} \\t Loss de Validação: {perda_valid}\")\n",
    "        \n",
    "    #print(f\"Terminando a validação da época {epoca}\")\n",
    "    \n",
    "    return perda_valid"
   ]
  },
  {
   "cell_type": "markdown",
   "id": "af7b984c",
   "metadata": {},
   "source": [
    "#### Função que Treina e Valida"
   ]
  },
  {
   "cell_type": "code",
   "execution_count": 67,
   "id": "4625e509",
   "metadata": {},
   "outputs": [],
   "source": [
    "def treinamento_validacao_cnn(X_treino_loader, y_treino_loader,\n",
    "                              X_valid_loader, y_valid_loader, \n",
    "                              modelo_cnn, criterio, otimizador, n_epocas):\n",
    "\n",
    "    # Treinamento e Validação\n",
    "    menor_perda = 1e10\n",
    "    for epoca in range(n_epocas):\n",
    "\n",
    "        # Treina por uma época e depois valida\n",
    "        treinamento_cnn(X_treino_loader, y_treino_loader, modelo_cnn, criterio, otimizador, epoca)\n",
    "\n",
    "        with torch.no_grad():\n",
    "            perda = validacao_cnn(X_valid_loader, y_valid_loader, modelo_cnn, criterio, epoca)\n",
    "\n",
    "        # Salva se o modelo atual for melhor\n",
    "        if perda < menor_perda:\n",
    "            menor_perda = perda\n",
    "            torch.save(modelo_cnn.state_dict(), 'Checkpoints/CNN/modelo-epoca-{}-perda-{:.4f}.pth'.format(epoca+1,perda))\n",
    "\n",
    "        print(\"\")"
   ]
  },
  {
   "cell_type": "markdown",
   "id": "022ff818",
   "metadata": {},
   "source": [
    "#### Função de Teste"
   ]
  },
  {
   "cell_type": "code",
   "execution_count": 68,
   "id": "6666c150",
   "metadata": {},
   "outputs": [],
   "source": [
    "def teste_cnn(X_teste_loader, y_teste_loader, modelo):\n",
    "    \n",
    "    y_pred_teste = []\n",
    "\n",
    "    for i, (x, y) in enumerate(zip(X_teste_loader, y_teste_loader)):\n",
    "\n",
    "        # move os tensores para GPU, se aplicável\n",
    "        if usar_gpu == True:\n",
    "            x = x.cuda()\n",
    "            y = y.cuda()        \n",
    "            y_pred = modelo(x).cpu().detach().numpy()\n",
    "\n",
    "        else:\n",
    "            y_pred = modelo(x).detach().numpy()\n",
    "\n",
    "        y_pred_teste = y_pred_teste + formatar_classe_predita(y_pred)\n",
    "        \n",
    "    return y_pred_teste"
   ]
  },
  {
   "cell_type": "markdown",
   "id": "62ffb88b",
   "metadata": {},
   "source": [
    "### LSTM"
   ]
  },
  {
   "cell_type": "markdown",
   "id": "1ecc9e91",
   "metadata": {},
   "source": [
    "#### Função para Treinamento"
   ]
  },
  {
   "cell_type": "code",
   "execution_count": 69,
   "id": "1878e0bb",
   "metadata": {},
   "outputs": [],
   "source": [
    "def treinamento_lstm(X_treino_loader, y_treino_loader, modelo, criterio, otimizador, epoca):\n",
    "    \n",
    "    # dependendo se a lstm for bidirecional ou não, vai ser iniciado o hidden state com tamanho diferente    \n",
    "    if flag_bidirecional == True:\n",
    "        h = modelo.iniciar_tensor_hidden(tam_batch*2)\n",
    "    else:\n",
    "        h = modelo.iniciar_tensor_hidden(tam_batch)\n",
    "    \n",
    "    perda_treino = 0\n",
    "    \n",
    "    #print(\"Iniciando o Treinamento da época {epoca}\")  \n",
    "    \n",
    "    modelo.train()\n",
    "\n",
    "    for i, (x, y) in enumerate(zip(X_treino_loader, y_treino_loader)):\n",
    "\n",
    "        # move os tensores para GPU, se aplicável\n",
    "        if usar_gpu == True:\n",
    "            x = x.cuda()\n",
    "            y = y.cuda()\n",
    "            \n",
    "        h = tuple([each.data for each in h])\n",
    "            \n",
    "        # Zera o gradiente de todas as variávels do otimizador \n",
    "        otimizador.zero_grad()\n",
    "\n",
    "        # Faz um forward no modelo passando x como entrada\n",
    "        y_pred, h = modelo(x, h)\n",
    "        \n",
    "        # Calcula a loss do batch\n",
    "        perda = criterio(y, y_pred)\n",
    "\n",
    "        # Computa o gradiente (backward na loss)\n",
    "        perda.backward()\n",
    "\n",
    "        # Otimização\n",
    "        otimizador.step()\n",
    "        \n",
    "        # Atualização da loss de treinamento\n",
    "        perda_treino += perda\n",
    "\n",
    "    perda_treino = perda_treino/len(X_treino_loader.dataset)\n",
    "    print(f\"Epoca {epoca + 1} \\t Loss de Treinamento: {perda_treino}\")\n",
    "    \n",
    "    #print(f\"Terminando o treinamendo da época {epoca}\")"
   ]
  },
  {
   "cell_type": "markdown",
   "id": "ec021f82",
   "metadata": {},
   "source": [
    "#### Função para Validação"
   ]
  },
  {
   "cell_type": "code",
   "execution_count": 70,
   "id": "481a1b46",
   "metadata": {},
   "outputs": [],
   "source": [
    "def validacao_lstm(X_valid_loader, y_valid_loader, modelo, criterio, epoca):\n",
    "    \n",
    "    # dependendo se a lstm for bidirecional ou não, vai ser iniciado o hidden state com tamanho diferente\n",
    "    if flag_bidirecional == True:\n",
    "        val_h = modelo.iniciar_tensor_hidden(tam_batch*2)\n",
    "    else:\n",
    "        val_h = modelo.iniciar_tensor_hidden(tam_batch)\n",
    "\n",
    "    perda_valid = 0\n",
    "    \n",
    "    #print(\"Iniciando a validação da época {epoca}\")      \n",
    "    \n",
    "    modelo.eval()\n",
    "\n",
    "    for i, (x, y) in enumerate(zip(X_valid_loader, y_valid_loader)):\n",
    "        \n",
    "        # move os tensores para GPU, se aplicável\n",
    "        if usar_gpu == True:\n",
    "            x = x.cuda()\n",
    "            y = y.cuda()\n",
    "            \n",
    "        val_h = tuple([each.data for each in val_h])\n",
    "            \n",
    "        # Faz um forward no modelo passando x como entrada\n",
    "        y_pred, val_h = modelo(x, val_h)\n",
    "\n",
    "        # Calcula a loss do batch\n",
    "        perda = criterio(y, y_pred)\n",
    "        \n",
    "        # Atualização da loss de treinamento\n",
    "        perda_valid += perda\n",
    "\n",
    "    perda_valid = perda_valid/len(X_valid_loader.dataset)\n",
    "    print(f\"Epoca {epoca + 1} \\t Loss de Validação: {perda_valid}\")\n",
    "        \n",
    "    #print(f\"Terminando a validação da época {epoca}\")\n",
    "    \n",
    "    return perda_valid"
   ]
  },
  {
   "cell_type": "markdown",
   "id": "8a1e0930",
   "metadata": {},
   "source": [
    "#### Função que Treina e Valida"
   ]
  },
  {
   "cell_type": "code",
   "execution_count": 71,
   "id": "70902dfa",
   "metadata": {},
   "outputs": [],
   "source": [
    "def treinamento_validacao_lstm(X_treino_loader, y_treino_loader,\n",
    "                               X_valid_loader, y_valid_loader,\n",
    "                               modelo_lstm, criterio, otimizador, n_epocas):\n",
    "    \n",
    "    # Treinamento e Validação\n",
    "    menor_perda = 1e10\n",
    "    for epoca in range(n_epocas):\n",
    "\n",
    "        # Treina por uma época e depois valida\n",
    "        treinamento_lstm(X_treino_loader, y_treino_loader, modelo_lstm, criterio, otimizador, epoca)    \n",
    "        with torch.no_grad():\n",
    "            perda = validacao_lstm(X_valid_loader, y_valid_loader, modelo_lstm, criterio, epoca)\n",
    "\n",
    "        # Salva se o modelo atual for melhor\n",
    "        if perda < menor_perda:\n",
    "            menor_perda = perda\n",
    "            torch.save(modelo_lstm.state_dict(), 'Checkpoints/LSTM/modelo-epoca-{}-perda-{:.4f}.pth'.format(epoca+1,perda))\n",
    "\n",
    "        print(\"\")"
   ]
  },
  {
   "cell_type": "markdown",
   "id": "c81671da",
   "metadata": {},
   "source": [
    "#### Função de Teste"
   ]
  },
  {
   "cell_type": "code",
   "execution_count": 72,
   "id": "aa6ddaa8",
   "metadata": {},
   "outputs": [],
   "source": [
    "def teste_lstm(X_teste_loader, y_teste_loader, modelo):\n",
    "    \n",
    "    h = modelo.iniciar_tensor_hidden(tam_batch)\n",
    "    h = tuple([dado.data for dado in h])\n",
    "\n",
    "    y_pred_teste = []\n",
    "\n",
    "    for i, (x, y) in enumerate(zip(X_teste_loader, y_teste_loader)):\n",
    "        \n",
    "        # move os tensores para GPU, se aplicável\n",
    "        if usar_gpu == True:\n",
    "            x = x.cuda()\n",
    "            y = y.cuda()\n",
    "\n",
    "            y_pred, h = modelo(x, h)\n",
    "            y_pred = y_pred.cpu().detach().numpy()\n",
    "\n",
    "        else:\n",
    "            y_pred, h = modelo(x, h)\n",
    "            y_pred = y_pred.detach().numpy()\n",
    "            \n",
    "\n",
    "        y_pred_teste = y_pred_teste + formatar_classe_predita(y_pred)\n",
    "        \n",
    "    return y_pred_teste"
   ]
  },
  {
   "cell_type": "markdown",
   "id": "11b05633",
   "metadata": {},
   "source": [
    "### Função Auxiliar"
   ]
  },
  {
   "cell_type": "markdown",
   "id": "398a0961",
   "metadata": {},
   "source": [
    "Função auxiliar para formatar os dados."
   ]
  },
  {
   "cell_type": "code",
   "execution_count": 73,
   "id": "ac4b6b66",
   "metadata": {},
   "outputs": [],
   "source": [
    "def formatar_classe_predita(array):\n",
    "\n",
    "    lista = array.flatten().tolist()\n",
    "    \n",
    "    lista = [int(round(num)) for num in lista]\n",
    "    \n",
    "    return lista"
   ]
  },
  {
   "cell_type": "markdown",
   "id": "74cead5d",
   "metadata": {},
   "source": [
    "## Checando se o CUDA está disponível"
   ]
  },
  {
   "cell_type": "code",
   "execution_count": 74,
   "id": "fdd8e05a",
   "metadata": {},
   "outputs": [
    {
     "name": "stdout",
     "output_type": "stream",
     "text": [
      "CUDA disponível (✯◡✯) Processamento em GPU!\n"
     ]
    }
   ],
   "source": [
    "usar_gpu = torch.cuda.is_available()\n",
    "\n",
    "if usar_gpu == True:\n",
    "  print(\"CUDA disponível (✯◡✯) Processamento em GPU!\")\n",
    "else:\n",
    "  print(\"CUDA NÃO disponível (ಥ﹏ಥ) Processamento em CPU!\")"
   ]
  },
  {
   "cell_type": "markdown",
   "id": "3d69df2c",
   "metadata": {},
   "source": [
    "## Flags de Controle"
   ]
  },
  {
   "cell_type": "markdown",
   "id": "5849267d",
   "metadata": {},
   "source": [
    "Variavéis de controle para saber quais redes neurais queremos rodar."
   ]
  },
  {
   "cell_type": "code",
   "execution_count": 75,
   "id": "d9023ef2",
   "metadata": {},
   "outputs": [],
   "source": [
    "flag_cnn = True\n",
    "flag_lstm = True\n",
    "flag_bert = True"
   ]
  },
  {
   "cell_type": "markdown",
   "id": "dd7821a4",
   "metadata": {},
   "source": [
    "## Rede Neural Convolucional (CNN)"
   ]
  },
  {
   "cell_type": "markdown",
   "id": "81e9b04f",
   "metadata": {},
   "source": [
    "### Definição do Modelo"
   ]
  },
  {
   "cell_type": "code",
   "execution_count": 315,
   "id": "d5a96f6e",
   "metadata": {},
   "outputs": [],
   "source": [
    "class CnnAnaliseSentimento(nn.Module):\n",
    "\n",
    "    def __init__(self, tam_max):\n",
    "\n",
    "        super().__init__()\n",
    "\n",
    "        self.conv1 = nn.Sequential(nn.Conv1d(in_channels = tam_max, out_channels = 35, kernel_size = 100, stride = 2),\n",
    "                                   nn.Dropout(0.5),\n",
    "                                   nn.ReLU(True),\n",
    "                                  )\n",
    "        \n",
    "        self.conv2 = nn.Sequential(nn.Conv1d(in_channels = 35, out_channels = 10, kernel_size = 1, stride = 5),\n",
    "                                        nn.Dropout(0.4),\n",
    "                                        nn.ReLU(True)\n",
    "                                       )\n",
    "\n",
    "        self.conv3 = nn.Sequential(nn.Conv1d(in_channels = 10, out_channels = 1, kernel_size = 1),\n",
    "                                   nn.Sigmoid()\n",
    "                                   )\n",
    "\n",
    "\n",
    "    def forward(self, x):\n",
    "\n",
    "        x_conv1 = self.conv1(x)\n",
    "        x_conv1 = F.max_pool1d(x_conv1, x_conv1.size(2))\n",
    "        \n",
    "        x_conv2 = self.conv2(x_conv1)\n",
    "        x_conv2 = F.max_pool1d(x_conv2, x_conv2.size(2))\n",
    "\n",
    "        x_conv3 = self.conv3(x_conv2)\n",
    "        x_conv3 = x_conv3.flatten()\n",
    "\n",
    "        return torch.round(x_conv3)"
   ]
  },
  {
   "cell_type": "markdown",
   "id": "470af9fb",
   "metadata": {},
   "source": [
    "### Alocação do modelo e device adequado (dependente da disponibilidade da GPU)"
   ]
  },
  {
   "cell_type": "code",
   "execution_count": 316,
   "id": "e2a7f63c",
   "metadata": {},
   "outputs": [],
   "source": [
    "# cria o modelo\n",
    "modelo_cnn_tkn = CnnAnaliseSentimento(corte)\n",
    "modelo_cnn_stem = CnnAnaliseSentimento(corte)\n",
    "\n",
    "# joga o modelo para GPU, caso aplicável\n",
    "if usar_gpu == True:\n",
    "    torch.cuda.init()\n",
    "    cudnn.benchmark = True\n",
    "    device = torch.device(\"cuda\")\n",
    "    modelo_cnn_tkn.cuda()\n",
    "    modelo_cnn_stem.cuda()\n",
    "else:\n",
    "    device = torch.device(\"cpu\")"
   ]
  },
  {
   "cell_type": "code",
   "execution_count": 317,
   "id": "42723191",
   "metadata": {},
   "outputs": [
    {
     "name": "stdout",
     "output_type": "stream",
     "text": [
      "CnnAnaliseSentimento(\n",
      "  (conv1): Sequential(\n",
      "    (0): Conv1d(74, 35, kernel_size=(100,), stride=(2,))\n",
      "    (1): Dropout(p=0.5, inplace=False)\n",
      "    (2): ReLU(inplace=True)\n",
      "  )\n",
      "  (conv2): Sequential(\n",
      "    (0): Conv1d(35, 10, kernel_size=(1,), stride=(5,))\n",
      "    (1): Dropout(p=0.4, inplace=False)\n",
      "    (2): ReLU(inplace=True)\n",
      "  )\n",
      "  (conv3): Sequential(\n",
      "    (0): Conv1d(10, 1, kernel_size=(1,), stride=(1,))\n",
      "    (1): Sigmoid()\n",
      "  )\n",
      ")\n"
     ]
    }
   ],
   "source": [
    "print(modelo_cnn_tkn)"
   ]
  },
  {
   "cell_type": "markdown",
   "id": "949d3a5b",
   "metadata": {},
   "source": [
    "### Função de Custo e Otimizador"
   ]
  },
  {
   "cell_type": "code",
   "execution_count": 318,
   "id": "9cf6d939",
   "metadata": {},
   "outputs": [],
   "source": [
    "# função de custo (loss) adequada\n",
    "criterio = nn.MSELoss()\n",
    "\n",
    "# otimizador\n",
    "otimizador_tkn  = torch.optim.Adam(modelo_cnn_tkn.parameters(), lr = 0.001)\n",
    "otimizador_stem = torch.optim.Adam(modelo_cnn_stem.parameters(), lr = 0.001)"
   ]
  },
  {
   "cell_type": "markdown",
   "id": "a7d5cce6",
   "metadata": {},
   "source": [
    "### Treinamento e Validação"
   ]
  },
  {
   "cell_type": "code",
   "execution_count": 319,
   "id": "f1dd2e73",
   "metadata": {},
   "outputs": [],
   "source": [
    "# definição do numero de épocas\n",
    "n_epocas = 5"
   ]
  },
  {
   "cell_type": "markdown",
   "id": "29045eaf",
   "metadata": {},
   "source": [
    "#### Sem Pré-Processamento"
   ]
  },
  {
   "cell_type": "code",
   "execution_count": 320,
   "id": "72e82911",
   "metadata": {},
   "outputs": [
    {
     "name": "stdout",
     "output_type": "stream",
     "text": [
      "Epoca 1 \t Loss de Treinamento: 0.0017669502412900329\n",
      "Epoca 1 \t Loss de Validação: 0.0017148277256637812\n",
      "\n",
      "Epoca 2 \t Loss de Treinamento: 0.0017982237040996552\n",
      "Epoca 2 \t Loss de Validação: 0.0017148277256637812\n",
      "\n",
      "Epoca 3 \t Loss de Treinamento: 0.0017434951150789857\n",
      "Epoca 3 \t Loss de Validação: 0.0016965848626568913\n",
      "\n",
      "Epoca 4 \t Loss de Treinamento: 0.0017982237040996552\n",
      "Epoca 4 \t Loss de Validação: 0.0016965848626568913\n",
      "\n",
      "Epoca 5 \t Loss de Treinamento: 0.00179040536750108\n",
      "Epoca 5 \t Loss de Validação: 0.0016965848626568913\n",
      "\n"
     ]
    }
   ],
   "source": [
    "treinamento_validacao_cnn(X_treino_loader_tkn, y_treino_loader_tkn,\n",
    "                          X_valid_loader_tkn, y_valid_loader_tkn,\n",
    "                          modelo_cnn_tkn, criterio, otimizador_tkn, n_epocas)"
   ]
  },
  {
   "cell_type": "markdown",
   "id": "f92bda5e",
   "metadata": {},
   "source": [
    "##### Carregando o melhor modelo"
   ]
  },
  {
   "cell_type": "code",
   "execution_count": 338,
   "id": "ec3e5a83",
   "metadata": {},
   "outputs": [
    {
     "data": {
      "text/plain": [
       "<All keys matched successfully>"
      ]
     },
     "execution_count": 338,
     "metadata": {},
     "output_type": "execute_result"
    }
   ],
   "source": [
    "melhor_modelo_tkn = torch.load('Checkpoints/CNN/modelo-epoca-3-perda-0.0017.pth', map_location = lambda storage, loc: storage)\n",
    "modelo_cnn_tkn.load_state_dict(melhor_modelo_tkn)"
   ]
  },
  {
   "cell_type": "markdown",
   "id": "c83e409c",
   "metadata": {},
   "source": [
    "##### Teste"
   ]
  },
  {
   "cell_type": "code",
   "execution_count": 339,
   "id": "b3e88a91",
   "metadata": {},
   "outputs": [
    {
     "name": "stdout",
     "output_type": "stream",
     "text": [
      "Relatório de classificação:\n",
      "               precision    recall  f1-score   support\n",
      "\n",
      "    Negativo     1.0000    0.0000    0.0000        77\n",
      "    Positivo     0.9453    1.0000    0.9719      1331\n",
      "\n",
      "    accuracy                         0.9453      1408\n",
      "   macro avg     0.9727    0.5000    0.4859      1408\n",
      "weighted avg     0.9483    0.9453    0.9187      1408\n",
      "\n"
     ]
    },
    {
     "data": {
      "image/png": "[encoded data removed]",
      "text/plain": [
       "<Figure size 360x360 with 1 Axes>"
      ]
     },
     "metadata": {
      "needs_background": "light"
     },
     "output_type": "display_data"
    }
   ],
   "source": [
    "y_pred_teste_cnn_tkn = teste_cnn(X_teste_loader_tkn, y_teste_loader_tkn, modelo_cnn_tkn)\n",
    "relatorio_matriz(y_teste.tolist()[:len(y_pred_teste_cnn_tkn)], y_pred_teste_cnn_tkn)"
   ]
  },
  {
   "cell_type": "markdown",
   "id": "f56a7e96",
   "metadata": {},
   "source": [
    "#### Com Stemming"
   ]
  },
  {
   "cell_type": "code",
   "execution_count": 328,
   "id": "4fc01f60",
   "metadata": {},
   "outputs": [
    {
     "name": "stdout",
     "output_type": "stream",
     "text": [
      "Epoca 1 \t Loss de Treinamento: 0.02931886538863182\n",
      "Epoca 1 \t Loss de Validação: 0.029261529445648193\n",
      "\n",
      "Epoca 2 \t Loss de Treinamento: 0.02931886538863182\n",
      "Epoca 2 \t Loss de Validação: 0.029243286699056625\n",
      "\n",
      "Epoca 3 \t Loss de Treinamento: 0.029326682910323143\n",
      "Epoca 3 \t Loss de Validação: 0.029261529445648193\n",
      "\n",
      "Epoca 4 \t Loss de Treinamento: 0.02931104600429535\n",
      "Epoca 4 \t Loss de Validação: 0.029225043952465057\n",
      "\n",
      "Epoca 5 \t Loss de Treinamento: 0.029287591576576233\n",
      "Epoca 5 \t Loss de Validação: 0.029261529445648193\n",
      "\n"
     ]
    }
   ],
   "source": [
    "treinamento_validacao_cnn(X_treino_loader_stem, y_treino_loader_stem,\n",
    "                          X_valid_loader_stem, y_valid_loader_stem,\n",
    "                          modelo_cnn_stem, criterio, otimizador_stem, n_epocas)"
   ]
  },
  {
   "cell_type": "markdown",
   "id": "0fe9d91b",
   "metadata": {},
   "source": [
    "##### Carregando o melhor modelo"
   ]
  },
  {
   "cell_type": "code",
   "execution_count": 164,
   "id": "f436c79a",
   "metadata": {},
   "outputs": [
    {
     "data": {
      "text/plain": [
       "<All keys matched successfully>"
      ]
     },
     "execution_count": 164,
     "metadata": {},
     "output_type": "execute_result"
    }
   ],
   "source": [
    "melhor_modelo_stem = torch.load('Checkpoints/CNN/modelo-epoca-3-perda-0.0017.pth', map_location = lambda storage, loc: storage)\n",
    "modelo_cnn_stem.load_state_dict(melhor_modelo_stem)"
   ]
  },
  {
   "cell_type": "markdown",
   "id": "d5fcd626",
   "metadata": {},
   "source": [
    "##### Teste"
   ]
  },
  {
   "cell_type": "code",
   "execution_count": 165,
   "id": "23bf8672",
   "metadata": {},
   "outputs": [
    {
     "name": "stdout",
     "output_type": "stream",
     "text": [
      "Relatório de classificação:\n",
      "               precision    recall  f1-score   support\n",
      "\n",
      "    Negativo     0.0000    0.0000    0.0000        77\n",
      "    Positivo     0.9453    0.9992    0.9715      1331\n",
      "\n",
      "    accuracy                         0.9446      1408\n",
      "   macro avg     0.4726    0.4996    0.4858      1408\n",
      "weighted avg     0.8936    0.9446    0.9184      1408\n",
      "\n"
     ]
    },
    {
     "data": {
      "image/png": "[encoded data removed]",
      "text/plain": [
       "<Figure size 360x360 with 1 Axes>"
      ]
     },
     "metadata": {
      "needs_background": "light"
     },
     "output_type": "display_data"
    }
   ],
   "source": [
    "y_pred_teste_cnn_stem = teste_cnn(X_teste_loader_stem, y_teste_loader_stem, modelo_cnn_stem)\n",
    "relatorio_matriz(y_teste_stem.tolist()[:len(y_pred_teste_cnn_stem)], y_pred_teste_cnn_stem)"
   ]
  },
  {
   "cell_type": "markdown",
   "id": "a032b5da",
   "metadata": {},
   "source": [
    "A CNN preve quase sempre todas as classes como sendo *positivas*."
   ]
  },
  {
   "cell_type": "markdown",
   "id": "f65efde4",
   "metadata": {},
   "source": [
    "## LSTM"
   ]
  },
  {
   "cell_type": "markdown",
   "id": "da5577a2",
   "metadata": {},
   "source": [
    "### Definição do Modelo"
   ]
  },
  {
   "cell_type": "markdown",
   "id": "a7caf91f",
   "metadata": {},
   "source": [
    "Na LSTM definimos dois modelos: um bidirecional e outro unidirecional."
   ]
  },
  {
   "cell_type": "code",
   "execution_count": 352,
   "id": "d6b1d057",
   "metadata": {},
   "outputs": [],
   "source": [
    "class LstmAnaliseSentimento(nn.Module):\n",
    "    \n",
    "    def __init__(self, tam_max = corte, num_camadas = 2):\n",
    "        \n",
    "        super(LstmAnaliseSentimento, self).__init__()\n",
    "        \n",
    "        self.tam_max = tam_max\n",
    "        self.num_layers = num_camadas\n",
    "        \n",
    "        self.lstm = nn.LSTM(input_size = 100,\n",
    "                            hidden_size = self.tam_max,\n",
    "                            num_layers = num_camadas,\n",
    "                            #dropout = 0.2,\n",
    "                            batch_first = True,\n",
    "                            bidirectional = False\n",
    "                           )\n",
    "        \n",
    "        self.dropout = nn.Dropout(0.4)\n",
    "    \n",
    "        self.linear = nn.Linear(self.tam_max, 1)\n",
    "        \n",
    "        self.sigmoid = nn.Sigmoid()\n",
    "        \n",
    "    def forward(self, x, hidden):\n",
    "\n",
    "        tam_batch = x.size(0) # tamanho do batch que ta sendo processado no momento\n",
    "        \n",
    "        x_lstm, hidden = self.lstm(x) # lstm\n",
    "        \n",
    "        x_cont = x_lstm.contiguous().view(-1, self.tam_max) # tensor contíguo \n",
    "        \n",
    "        x_dropout = self.dropout(x_cont) # dropout\n",
    "        \n",
    "        x_linear = self.linear(x_dropout) # linear\n",
    "        \n",
    "        x_sigmoid = self.sigmoid(x_linear) # sigmoid\n",
    "        \n",
    "        x_remodelado = x_sigmoid.view(tam_batch, -1) # deixando do tamanho do batch\n",
    "        \n",
    "        x_ultimo = x_remodelado[:, -1] # lembrando que na lstm pega o último valor quando não é bidirecional\n",
    "        \n",
    "        return x_ultimo, hidden\n",
    "    \n",
    "    def iniciar_tensor_hidden(self, tam_batch):\n",
    "        \n",
    "        # Cria 2 tensores de tamanho num_camadas x batch_size x corte\n",
    "        h0 = torch.zeros((self.num_layers, tam_batch, self.tam_max)).to(device)\n",
    "        c0 = torch.zeros((self.num_layers, tam_batch, self.tam_max)).to(device)\n",
    "        \n",
    "        hidden = (h0, c0)\n",
    "        \n",
    "        return hidden"
   ]
  },
  {
   "cell_type": "code",
   "execution_count": 353,
   "id": "27b58890",
   "metadata": {},
   "outputs": [],
   "source": [
    "class LstmBidirecionalAnaliseSentimento(nn.Module):\n",
    "    \n",
    "    def __init__(self, tam_max = corte, num_camadas = 2):\n",
    "        \n",
    "        super(LstmBidirecionalAnaliseSentimento, self).__init__()\n",
    "        \n",
    "        self.tam_max = tam_max\n",
    "        self.num_layers = num_camadas\n",
    "        \n",
    "        self.lstm = nn.LSTM(input_size = 100,\n",
    "                            hidden_size = self.tam_max*2,\n",
    "                            num_layers = num_camadas,\n",
    "                            #dropout = 0.2,\n",
    "                            batch_first = True,\n",
    "                            bidirectional = True\n",
    "                           )\n",
    "        \n",
    "        self.dropout = nn.Dropout(0.4)\n",
    "    \n",
    "        self.linear = nn.Linear(self.tam_max, 1)\n",
    "        \n",
    "        self.sigmoid = nn.Sigmoid()\n",
    "        \n",
    "    def forward(self, x, hidden):\n",
    "\n",
    "        tam_batch = x.size(0) # tamanho do batch que ta sendo processado\n",
    "        \n",
    "        x_lstm, hidden = self.lstm(x, hidden) # lstm\n",
    "        \n",
    "        x_cont = x_lstm.contiguous().view(-1, self.tam_max) # tensor contíguo \n",
    "        \n",
    "        x_dropout = self.dropout(x_cont) # dropout\n",
    "        \n",
    "        x_linear = self.linear(x_dropout) # linear\n",
    "        \n",
    "        x_sigmoid = self.sigmoid(x_linear) # sigmoid\n",
    "        \n",
    "        x_remodelado = x_sigmoid.view(tam_batch, -1) # deixando do tamanho do batch\n",
    "\n",
    "        meio = int(len(x_remodelado[0])/2)\n",
    "\n",
    "        # lembrando que na lstm pega o último valor quando não é bidirecional\n",
    "        # no nosso caso é bidirecional, então os 2 valores de interesse estarão no meio da saída\n",
    "        x_ultimo = x_remodelado[:, (meio-1):(meio+1)]\n",
    "        \n",
    "        x_media = torch.mean(x_ultimo, dim = 1) # tirando a média do resultado direcional e bidirecional\n",
    "        \n",
    "        return x_media, hidden\n",
    "    \n",
    "    def iniciar_tensor_hidden(self, tam_batch):\n",
    "        \n",
    "        # Cria 2 tensores de tamanho num_camadas x batch_size x corte\n",
    "        h0 = torch.zeros((self.num_layers*2, 32, self.tam_max*2)).to(device)\n",
    "        c0 = torch.zeros((self.num_layers*2, 32, self.tam_max*2)).to(device)\n",
    "        \n",
    "        hidden = (h0, c0)\n",
    "        \n",
    "        return hidden"
   ]
  },
  {
   "cell_type": "markdown",
   "id": "f9c2ea06",
   "metadata": {},
   "source": [
    "### Alocação do modelo e device adequado (dependente da disponibilidade da GPU)"
   ]
  },
  {
   "cell_type": "code",
   "execution_count": 366,
   "id": "ff00afba",
   "metadata": {},
   "outputs": [],
   "source": [
    "# flag para escolher qual tipo de lstm vai utilizar\n",
    "flag_bidirecional = False\n",
    "\n",
    "if flag_bidirecional == True:\n",
    "    modelo_lstm_tkn = LstmBidirecionalAnaliseSentimento()\n",
    "    modelo_lstm_stem = LstmBidirecionalAnaliseSentimento()\n",
    "else:\n",
    "    modelo_lstm_tkn = LstmAnaliseSentimento()\n",
    "    modelo_lstm_stem = LstmBidirecionalAnaliseSentimento()\n",
    "    \n",
    "# joga o modelo para GPU, caso aplicável\n",
    "if usar_gpu == True:\n",
    "    torch.cuda.init()\n",
    "    cudnn.benchmark = True\n",
    "    device = torch.device(\"cuda\")\n",
    "    modelo_lstm_tkn.cuda()\n",
    "    modelo_lstm_stem.cuda()\n",
    "else:\n",
    "    device = torch.device(\"cpu\")"
   ]
  },
  {
   "cell_type": "code",
   "execution_count": 367,
   "id": "d4a74231",
   "metadata": {},
   "outputs": [
    {
     "name": "stdout",
     "output_type": "stream",
     "text": [
      "LstmAnaliseSentimento(\n",
      "  (lstm): LSTM(100, 74, num_layers=2, batch_first=True)\n",
      "  (dropout): Dropout(p=0.4, inplace=False)\n",
      "  (linear): Linear(in_features=74, out_features=1, bias=True)\n",
      "  (sigmoid): Sigmoid()\n",
      ")\n"
     ]
    }
   ],
   "source": [
    "print(modelo_lstm_tkn)"
   ]
  },
  {
   "cell_type": "markdown",
   "id": "9271889c",
   "metadata": {},
   "source": [
    "### Função de Custo e Otimizador"
   ]
  },
  {
   "cell_type": "code",
   "execution_count": 368,
   "id": "15b5d4b5",
   "metadata": {},
   "outputs": [],
   "source": [
    "# função de custo (loss) adequada\n",
    "criterio = nn.MSELoss()\n",
    "\n",
    "# otimizador\n",
    "otimizador_lstm_stem = torch.optim.Adam(modelo_lstm_stem.parameters(), lr = 0.001)\n",
    "otimizador_lstm_tkn = torch.optim.Adam(modelo_lstm_tkn.parameters(), lr = 0.001)"
   ]
  },
  {
   "cell_type": "markdown",
   "id": "7ba333e2",
   "metadata": {},
   "source": [
    "### Treinamento e Validação"
   ]
  },
  {
   "cell_type": "code",
   "execution_count": 369,
   "id": "c129816d",
   "metadata": {},
   "outputs": [],
   "source": [
    "n_epocas = 5"
   ]
  },
  {
   "cell_type": "markdown",
   "id": "65595ac0",
   "metadata": {},
   "source": [
    "#### Sem Pré-Processamento"
   ]
  },
  {
   "cell_type": "code",
   "execution_count": 370,
   "id": "db1afc45",
   "metadata": {},
   "outputs": [
    {
     "name": "stdout",
     "output_type": "stream",
     "text": [
      "Epoca 1 \t Loss de Treinamento: 0.0021506724879145622\n",
      "Epoca 1 \t Loss de Validação: 0.0016370867379009724\n",
      "\n",
      "Epoca 2 \t Loss de Treinamento: 0.001630020560696721\n",
      "Epoca 2 \t Loss de Validação: 0.0016048676334321499\n",
      "\n",
      "Epoca 3 \t Loss de Treinamento: 0.0016330451471731067\n",
      "Epoca 3 \t Loss de Validação: 0.0016207810258492827\n",
      "\n",
      "Epoca 4 \t Loss de Treinamento: 0.001631493796594441\n",
      "Epoca 4 \t Loss de Validação: 0.0016297140391543508\n",
      "\n",
      "Epoca 5 \t Loss de Treinamento: 0.0016358805587515235\n",
      "Epoca 5 \t Loss de Validação: 0.0016047944081947207\n",
      "\n"
     ]
    }
   ],
   "source": [
    "treinamento_validacao_lstm(X_treino_loader_tkn, y_treino_loader_tkn,\n",
    "                          X_valid_loader_tkn, y_valid_loader_tkn,\n",
    "                          modelo_lstm_tkn, criterio, otimizador_lstm_tkn, n_epocas)"
   ]
  },
  {
   "cell_type": "markdown",
   "id": "9e8d78b9",
   "metadata": {},
   "source": [
    "#### Com Stemming"
   ]
  },
  {
   "cell_type": "code",
   "execution_count": 371,
   "id": "da612a4e",
   "metadata": {},
   "outputs": [
    {
     "name": "stdout",
     "output_type": "stream",
     "text": [
      "Epoca 1 \t Loss de Treinamento: 0.0018887761980295181\n",
      "Epoca 1 \t Loss de Validação: 0.0016070482088252902\n",
      "\n",
      "Epoca 2 \t Loss de Treinamento: 0.0016268512699753046\n",
      "Epoca 2 \t Loss de Validação: 0.0016202208353206515\n",
      "\n",
      "Epoca 3 \t Loss de Treinamento: 0.0016108736163005233\n",
      "Epoca 3 \t Loss de Validação: 0.001624832977540791\n",
      "\n",
      "Epoca 4 \t Loss de Treinamento: 0.001602647826075554\n",
      "Epoca 4 \t Loss de Validação: 0.0016204628627747297\n",
      "\n",
      "Epoca 5 \t Loss de Treinamento: 0.001612616702914238\n",
      "Epoca 5 \t Loss de Validação: 0.001621426665224135\n",
      "\n"
     ]
    }
   ],
   "source": [
    "treinamento_validacao_lstm(X_treino_loader_stem, y_treino_loader_stem,\n",
    "                          X_valid_loader_stem, y_valid_loader_stem,\n",
    "                          modelo_lstm_stem, criterio, otimizador_lstm_stem, n_epocas)"
   ]
  },
  {
   "cell_type": "code",
   "execution_count": 372,
   "id": "99af1396",
   "metadata": {},
   "outputs": [],
   "source": [
    "#melhor_modelo_lstm_tkn = torch.load('Checkpoints/LSTM/_modelo-epoca-5-perda-0.0035.pth', map_location = lambda storage, loc: storage)\n",
    "#modelo_lstm_tkn.load_state_dict(melhor_modelo_lstm_tkn)"
   ]
  },
  {
   "cell_type": "markdown",
   "id": "d0b32fab",
   "metadata": {},
   "source": [
    "### Teste"
   ]
  },
  {
   "cell_type": "markdown",
   "id": "7688c602",
   "metadata": {},
   "source": [
    "#### Sem Pré-Processamento"
   ]
  },
  {
   "cell_type": "code",
   "execution_count": 373,
   "id": "9bda302c",
   "metadata": {},
   "outputs": [
    {
     "name": "stdout",
     "output_type": "stream",
     "text": [
      "Relatório de classificação:\n",
      "               precision    recall  f1-score   support\n",
      "\n",
      "    Negativo     1.0000    0.0000    0.0000        77\n",
      "    Positivo     0.9453    1.0000    0.9719      1331\n",
      "\n",
      "    accuracy                         0.9453      1408\n",
      "   macro avg     0.9727    0.5000    0.4859      1408\n",
      "weighted avg     0.9483    0.9453    0.9187      1408\n",
      "\n"
     ]
    },
    {
     "data": {
      "image/png": "[encoded data removed]",
      "text/plain": [
       "<Figure size 360x360 with 1 Axes>"
      ]
     },
     "metadata": {
      "needs_background": "light"
     },
     "output_type": "display_data"
    }
   ],
   "source": [
    "y_pred_teste_lstm_tkn = teste_lstm(X_teste_loader_tkn, y_teste_loader_tkn, modelo_lstm_tkn)\n",
    "relatorio_matriz(y_teste.tolist()[:len(y_pred_teste_lstm_tkn)], y_pred_teste_lstm_tkn)"
   ]
  },
  {
   "cell_type": "markdown",
   "id": "c3821688",
   "metadata": {},
   "source": [
    "#### Com Stemming"
   ]
  },
  {
   "cell_type": "code",
   "execution_count": 98,
   "id": "40069bbb",
   "metadata": {},
   "outputs": [
    {
     "name": "stdout",
     "output_type": "stream",
     "text": [
      "Relatório de classificação:\n",
      "               precision    recall  f1-score   support\n",
      "\n",
      "    Negativo     1.0000    0.0000    0.0000        77\n",
      "    Positivo     0.9453    1.0000    0.9719      1331\n",
      "\n",
      "    accuracy                         0.9453      1408\n",
      "   macro avg     0.9727    0.5000    0.4859      1408\n",
      "weighted avg     0.9483    0.9453    0.9187      1408\n",
      "\n"
     ]
    },
    {
     "data": {
      "image/png": "[encoded data removed]",
      "text/plain": [
       "<Figure size 360x360 with 1 Axes>"
      ]
     },
     "metadata": {
      "needs_background": "light"
     },
     "output_type": "display_data"
    }
   ],
   "source": [
    "y_pred_teste_lstm_stem = teste_lstm(X_teste_loader_stem, y_teste_loader_stem, modelo_lstm_stem)\n",
    "relatorio_matriz(y_teste.tolist()[:len(y_pred_teste_lstm_stem)], y_pred_teste_lstm_stem)"
   ]
  },
  {
   "cell_type": "markdown",
   "id": "60650b96",
   "metadata": {},
   "source": [
    "A LSTM prevê todos os reviews como sendo pertencentes a apenas uma classe, que é o *positivo*."
   ]
  },
  {
   "cell_type": "markdown",
   "id": "cecc5fa9",
   "metadata": {},
   "source": [
    "## BERT"
   ]
  },
  {
   "cell_type": "markdown",
   "id": "faf69313",
   "metadata": {},
   "source": [
    "### Funções Auxiliares"
   ]
  },
  {
   "cell_type": "markdown",
   "id": "6959966d",
   "metadata": {},
   "source": [
    "#### Formatação dos dados de entrada"
   ]
  },
  {
   "cell_type": "code",
   "execution_count": 99,
   "id": "e45b13da",
   "metadata": {},
   "outputs": [],
   "source": [
    "def criar_dicionario(x_ids, mascara, tt_ids, rotulo):\n",
    "    \n",
    "    return {\"input_ids\": x_ids,\n",
    "            \"token_type_ids\": tt_ids,\n",
    "            \"attention_mask\": mascara,\n",
    "           }, rotulo"
   ]
  },
  {
   "cell_type": "code",
   "execution_count": 100,
   "id": "253c3be1",
   "metadata": {},
   "outputs": [],
   "source": [
    "def codificar_entrada_bert(X, y, tam_max):\n",
    "\n",
    "    X_ids = []\n",
    "    tt_ids = []\n",
    "    mascara = []\n",
    "    classes = []\n",
    "\n",
    "    for texto, classe in zip(X, y):\n",
    "\n",
    "        bert_input = formatar_entrada_bert(texto, tam_max)\n",
    "        X_ids.append(bert_input['input_ids'])\n",
    "        tt_ids.append(bert_input['token_type_ids'])\n",
    "        mascara.append(bert_input['attention_mask'])\n",
    "        classes.append([classe])\n",
    "\n",
    "    return tf.data.Dataset.from_tensor_slices((X_ids, mascara, tt_ids, classes)).map(criar_dicionario)"
   ]
  },
  {
   "cell_type": "markdown",
   "id": "ffb34742",
   "metadata": {},
   "source": [
    "#### Funções de Teste"
   ]
  },
  {
   "cell_type": "code",
   "execution_count": 101,
   "id": "30438f01",
   "metadata": {},
   "outputs": [],
   "source": [
    "def teste_encoder_entrada(texto, tam_max):\n",
    "    \n",
    "    predict_input = tokenizer.encode(texto,\n",
    "                                     truncation = True,\n",
    "                                     max_length = tam_max,\n",
    "                                     padding = True,\n",
    "                                     return_tensors = \"tf\")\n",
    "    \n",
    "    return predict_input"
   ]
  },
  {
   "cell_type": "code",
   "execution_count": 102,
   "id": "396f693e",
   "metadata": {},
   "outputs": [],
   "source": [
    "def teste(texto, tam_max, modelo_bert):\n",
    "    \n",
    "    entrada = teste_encoder_entrada(texto, tam_max)\n",
    "        \n",
    "    y_pred = modelo_bert.predict(entrada)[0]\n",
    "    \n",
    "    entrada_softmax = tf.nn.softmax(y_pred, axis = 1)\n",
    "    \n",
    "    return tf.argmax(entrada_softmax, axis = 1).numpy()[0]"
   ]
  },
  {
   "cell_type": "markdown",
   "id": "1d81befa",
   "metadata": {},
   "source": [
    "### Formatando a Entrada"
   ]
  },
  {
   "cell_type": "markdown",
   "id": "2f927f3d",
   "metadata": {},
   "source": [
    "Asssim como fizemos anteriormente, vamos preparar os dados que serão utilizados como entrada do BERT.\n",
    "\n",
    "A função abaixo vai tokenizar o texto de entrada, adicionar os paddings e padronizar a entrada para um tamanho igual a *tam_max* (a variável *corte* que definimos lá no ínicio)."
   ]
  },
  {
   "cell_type": "code",
   "execution_count": 103,
   "id": "e96cb586",
   "metadata": {},
   "outputs": [],
   "source": [
    "def formatar_entrada_bert(texto, tam_max):\n",
    "\n",
    "    return tokenizer.encode_plus(texto,\n",
    "                                 add_special_tokens = True, # adiciona [CLS], [SEP]\n",
    "                                 max_length = tam_max, # comprimento máximo do texto de entrada\n",
    "                                 padding = 'max_length', # adiciona [PAD] até o tam_max\n",
    "                                 truncation = True, # padrão = 'longest_first'\n",
    "                                 return_attention_mask = True, # adiciona máscara de atenção para não focar nos tokens do pad\n",
    "                                )"
   ]
  },
  {
   "cell_type": "markdown",
   "id": "0c96752a",
   "metadata": {},
   "source": [
    "Primeiro vamos construir um [`tokenizador BERT`](https://huggingface.co/docs/transformers/model_doc/bert)."
   ]
  },
  {
   "cell_type": "code",
   "execution_count": 104,
   "id": "fc9bfe5d",
   "metadata": {},
   "outputs": [],
   "source": [
    "tokenizer = BertTokenizer.from_pretrained('neuralmind/bert-base-portuguese-cased', do_lower_case = False)"
   ]
  },
  {
   "cell_type": "markdown",
   "id": "3d622bd7",
   "metadata": {},
   "source": [
    "#### Separando o Dataset de Novo"
   ]
  },
  {
   "cell_type": "code",
   "execution_count": 105,
   "id": "4cbc1ef9",
   "metadata": {},
   "outputs": [],
   "source": [
    "tam_batch = 1"
   ]
  },
  {
   "cell_type": "markdown",
   "id": "d95ae83d",
   "metadata": {},
   "source": [
    "##### Sem Pré-Processamento"
   ]
  },
  {
   "cell_type": "code",
   "execution_count": 106,
   "id": "60ee6fd3",
   "metadata": {},
   "outputs": [],
   "source": [
    "if flag_bert == True:\n",
    "    \n",
    "    X_treino_bert_tkn = df['Review'][X_treino.index.tolist()].tolist()\n",
    "    X_valid_bert_tkn = df['Review'][X_valid.index.tolist()].tolist()\n",
    "    X_teste_bert_tkn = df['Review'][X_teste.index.tolist()].tolist()\n",
    "    \n",
    "    y_treino_bert_tkn = df['classe'][y_treino.index.tolist()].tolist()\n",
    "    y_valid_bert_tkn = df['classe'][y_valid.index.tolist()].tolist()\n",
    "    y_teste_bert_tkn = df['classe'][y_teste.index.tolist()].tolist()\n",
    "    \n",
    "    X_y_treino_encoded_tkn = codificar_entrada_bert(X_treino_bert_tkn, y_treino_bert_tkn, corte).shuffle(10000).batch(tam_batch)\n",
    "    X_y_valid_encoded_tkn = codificar_entrada_bert(X_valid_bert_tkn, y_valid_bert_tkn, corte).batch(tam_batch)"
   ]
  },
  {
   "cell_type": "markdown",
   "id": "c59228ba",
   "metadata": {},
   "source": [
    "##### Com Stemming"
   ]
  },
  {
   "cell_type": "code",
   "execution_count": 107,
   "id": "58bdee58",
   "metadata": {},
   "outputs": [],
   "source": [
    "if flag_bert == True:\n",
    "    \n",
    "    X_treino_bert_stem = df['stemming'][X_treino_stem.index.tolist()].tolist()\n",
    "    X_valid_bert_stem = df['stemming'][X_valid_stem.index.tolist()].tolist()\n",
    "    X_teste_bert_stem = df['stemming'][X_teste_stem.index.tolist()].tolist()\n",
    "    \n",
    "    y_treino_bert_stem = df['classe'][y_treino_stem.index.tolist()].tolist()\n",
    "    y_valid_bert_stem = df['classe'][y_valid_stem.index.tolist()].tolist()\n",
    "    y_teste_bert_stem = df['classe'][y_teste_stem.index.tolist()].tolist()\n",
    "    \n",
    "    X_y_treino_encoded_stem = codificar_entrada_bert(X_treino_bert_stem, y_treino_bert_stem, corte).shuffle(10000).batch(tam_batch)\n",
    "    X_y_valid_encoded_stem = codificar_entrada_bert(X_valid_bert_stem, y_valid_bert_stem, corte).batch(tam_batch)"
   ]
  },
  {
   "cell_type": "markdown",
   "id": "e71a7bf9",
   "metadata": {},
   "source": [
    "### Otimizador e Inicialização do Modelo"
   ]
  },
  {
   "cell_type": "code",
   "execution_count": 108,
   "id": "9785e065",
   "metadata": {},
   "outputs": [],
   "source": [
    "# otimizador\n",
    "lr = 2e-5 # recommended learning rate for Adam 5e-5, 3e-5, 2e-5\n",
    "otimizador_bert = Adam(learning_rate = lr, epsilon = 1e-08)\n",
    "\n",
    "# we do not have one-hot vectors, we can use sparce categorical cross entropy and accuracy\n",
    "perda_bert = SparseCategoricalCrossentropy(from_logits = True)\n",
    "\n",
    "metrica_bert = SparseCategoricalAccuracy('accuracy')"
   ]
  },
  {
   "cell_type": "code",
   "execution_count": 109,
   "id": "6d8ccec9",
   "metadata": {},
   "outputs": [
    {
     "name": "stderr",
     "output_type": "stream",
     "text": [
      "All PyTorch model weights were used when initializing TFBertForSequenceClassification.\n",
      "\n",
      "Some weights or buffers of the TF 2.0 model TFBertForSequenceClassification were not initialized from the PyTorch model and are newly initialized: ['classifier.weight', 'classifier.bias']\n",
      "You should probably TRAIN this model on a down-stream task to be able to use it for predictions and inference.\n",
      "All PyTorch model weights were used when initializing TFBertForSequenceClassification.\n",
      "\n",
      "Some weights or buffers of the TF 2.0 model TFBertForSequenceClassification were not initialized from the PyTorch model and are newly initialized: ['classifier.weight', 'classifier.bias']\n",
      "You should probably TRAIN this model on a down-stream task to be able to use it for predictions and inference.\n"
     ]
    }
   ],
   "source": [
    "if flag_bert == True:\n",
    "    \n",
    "    modelo_bert_tkn = TFBertForSequenceClassification.from_pretrained('neuralmind/bert-base-portuguese-cased', from_pt = True)\n",
    "    modelo_bert_stem = TFBertForSequenceClassification.from_pretrained('neuralmind/bert-base-portuguese-cased', from_pt = True)\n",
    "    \n",
    "    modelo_bert_tkn.compile(optimizer = otimizador_bert, loss = perda_bert, metrics = [metrica_bert])\n",
    "    modelo_bert_stem.compile(optimizer = otimizador_bert, loss = perda_bert, metrics = [metrica_bert])"
   ]
  },
  {
   "cell_type": "markdown",
   "id": "e6d9a1d2",
   "metadata": {},
   "source": [
    "### Calculando os parâmetros de aprendizagem do BERT"
   ]
  },
  {
   "cell_type": "code",
   "execution_count": 110,
   "id": "dc4427f4",
   "metadata": {},
   "outputs": [],
   "source": [
    "n_epocas = 10"
   ]
  },
  {
   "cell_type": "markdown",
   "id": "775326e5",
   "metadata": {},
   "source": [
    "#### Sem Pré-Processamento"
   ]
  },
  {
   "cell_type": "code",
   "execution_count": 111,
   "id": "dac3e6a4",
   "metadata": {},
   "outputs": [
    {
     "name": "stdout",
     "output_type": "stream",
     "text": [
      "Epoch 1/10\n",
      "3997/3997 [==============================] - 2321s 578ms/step - loss: 0.1183 - accuracy: 0.9562 - val_loss: 0.0917 - val_accuracy: 0.9691\n",
      "Epoch 2/10\n",
      "3997/3997 [==============================] - 2302s 576ms/step - loss: 0.0737 - accuracy: 0.9747 - val_loss: 0.0994 - val_accuracy: 0.9650\n",
      "Epoch 3/10\n",
      "3997/3997 [==============================] - 2308s 577ms/step - loss: 0.0500 - accuracy: 0.9837 - val_loss: 0.0973 - val_accuracy: 0.9650\n",
      "Epoch 4/10\n",
      "3997/3997 [==============================] - 2299s 575ms/step - loss: 0.0381 - accuracy: 0.9900 - val_loss: 0.1869 - val_accuracy: 0.9621\n",
      "Epoch 5/10\n",
      "3997/3997 [==============================] - 2302s 576ms/step - loss: 0.0438 - accuracy: 0.9900 - val_loss: 0.1823 - val_accuracy: 0.9621\n",
      "Epoch 6/10\n",
      "3997/3997 [==============================] - 2305s 577ms/step - loss: 0.0356 - accuracy: 0.9925 - val_loss: 0.1821 - val_accuracy: 0.9656\n",
      "Epoch 7/10\n",
      "3997/3997 [==============================] - 2314s 579ms/step - loss: 0.0391 - accuracy: 0.9887 - val_loss: 0.1384 - val_accuracy: 0.9609\n",
      "Epoch 8/10\n",
      "3997/3997 [==============================] - 2313s 579ms/step - loss: 0.0258 - accuracy: 0.9935 - val_loss: 0.1955 - val_accuracy: 0.9656\n",
      "Epoch 9/10\n",
      "3997/3997 [==============================] - 2317s 580ms/step - loss: 0.0543 - accuracy: 0.9840 - val_loss: 0.1213 - val_accuracy: 0.9644\n",
      "Epoch 10/10\n",
      "3997/3997 [==============================] - 2324s 581ms/step - loss: 0.0317 - accuracy: 0.9922 - val_loss: 0.1721 - val_accuracy: 0.9621\n"
     ]
    }
   ],
   "source": [
    "if flag_bert == True:\n",
    "    \n",
    "    bert_hist_tkn = modelo_bert_tkn.fit(X_y_treino_encoded_tkn, epochs = n_epocas, validation_data = X_y_valid_encoded_tkn)"
   ]
  },
  {
   "cell_type": "markdown",
   "id": "2206751e",
   "metadata": {},
   "source": [
    "#### Com Stemming"
   ]
  },
  {
   "cell_type": "code",
   "execution_count": 112,
   "id": "c22f4843",
   "metadata": {},
   "outputs": [
    {
     "name": "stdout",
     "output_type": "stream",
     "text": [
      "Epoch 1/10\n",
      "3997/3997 [==============================] - 2406s 599ms/step - loss: 0.2040 - accuracy: 0.9496 - val_loss: 0.1866 - val_accuracy: 0.9451\n",
      "Epoch 2/10\n",
      "3997/3997 [==============================] - 2320s 580ms/step - loss: 0.1298 - accuracy: 0.9547 - val_loss: 0.1700 - val_accuracy: 0.9451\n",
      "Epoch 3/10\n",
      "3997/3997 [==============================] - 2390s 598ms/step - loss: 0.1305 - accuracy: 0.9490 - val_loss: 0.1652 - val_accuracy: 0.9451\n",
      "Epoch 4/10\n",
      "3997/3997 [==============================] - 2336s 584ms/step - loss: 0.1273 - accuracy: 0.9467 - val_loss: 0.1575 - val_accuracy: 0.9451\n",
      "Epoch 5/10\n",
      "3997/3997 [==============================] - 2394s 599ms/step - loss: 0.1637 - accuracy: 0.9457 - val_loss: 0.2130 - val_accuracy: 0.9451\n",
      "Epoch 6/10\n",
      "3997/3997 [==============================] - 2343s 586ms/step - loss: 0.1950 - accuracy: 0.9485 - val_loss: 0.2004 - val_accuracy: 0.9475\n",
      "Epoch 7/10\n",
      "3997/3997 [==============================] - 2421s 606ms/step - loss: 0.1591 - accuracy: 0.9425 - val_loss: 0.1881 - val_accuracy: 0.9451\n",
      "Epoch 8/10\n",
      "3997/3997 [==============================] - 2353s 589ms/step - loss: 0.1831 - accuracy: 0.9460 - val_loss: 0.1991 - val_accuracy: 0.9451\n",
      "Epoch 9/10\n",
      "3997/3997 [==============================] - 2403s 601ms/step - loss: 0.1807 - accuracy: 0.9482 - val_loss: 0.1946 - val_accuracy: 0.9504\n",
      "Epoch 10/10\n",
      "3997/3997 [==============================] - 2346s 587ms/step - loss: 0.1730 - accuracy: 0.9497 - val_loss: 0.1909 - val_accuracy: 0.9510\n"
     ]
    }
   ],
   "source": [
    "if flag_bert == True:\n",
    "    \n",
    "    bert_hist_stem = modelo_bert_stem.fit(X_y_treino_encoded_stem, epochs = n_epocas, validation_data = X_y_valid_encoded_stem)"
   ]
  },
  {
   "cell_type": "markdown",
   "id": "8db65dbb",
   "metadata": {},
   "source": [
    "### Teste"
   ]
  },
  {
   "cell_type": "markdown",
   "id": "7ece9d24",
   "metadata": {},
   "source": [
    "#### Sem Pré-Processamento"
   ]
  },
  {
   "cell_type": "code",
   "execution_count": 113,
   "id": "0912bf8e",
   "metadata": {},
   "outputs": [
    {
     "name": "stderr",
     "output_type": "stream",
     "text": [
      "100%|██████████████████████████████████████████████████████████████████████████████| 1428/1428 [01:45<00:00, 13.51it/s]\n"
     ]
    }
   ],
   "source": [
    "if flag_bert == True:\n",
    "    \n",
    "    y_teste_bert_pred_tnk = df['Review'][X_teste.index.tolist()].progress_apply(lambda linha: teste(linha, corte, modelo_bert_tkn)).tolist()"
   ]
  },
  {
   "cell_type": "code",
   "execution_count": 118,
   "id": "67287c23",
   "metadata": {},
   "outputs": [
    {
     "name": "stdout",
     "output_type": "stream",
     "text": [
      "Relatório de classificação:\n",
      "               precision    recall  f1-score   support\n",
      "\n",
      "    Negativo     0.6484    0.7564    0.6982        78\n",
      "    Positivo     0.9858    0.9763    0.9810      1350\n",
      "\n",
      "    accuracy                         0.9643      1428\n",
      "   macro avg     0.8171    0.8664    0.8396      1428\n",
      "weighted avg     0.9674    0.9643    0.9656      1428\n",
      "\n"
     ]
    },
    {
     "data": {
      "image/png": "[encoded data removed]",
      "text/plain": [
       "<Figure size 360x360 with 1 Axes>"
      ]
     },
     "metadata": {
      "needs_background": "light"
     },
     "output_type": "display_data"
    }
   ],
   "source": [
    "if flag_bert == True:\n",
    "    \n",
    "    relatorio_matriz(y_teste_bert_tkn, y_teste_bert_pred_tnk)"
   ]
  },
  {
   "cell_type": "markdown",
   "id": "69c98f10",
   "metadata": {},
   "source": [
    "#### Com Stemming"
   ]
  },
  {
   "cell_type": "code",
   "execution_count": 115,
   "id": "a13f1b49",
   "metadata": {},
   "outputs": [
    {
     "name": "stderr",
     "output_type": "stream",
     "text": [
      "100%|██████████████████████████████████████████████████████████████████████████████| 1428/1428 [01:48<00:00, 13.19it/s]\n"
     ]
    }
   ],
   "source": [
    "if flag_bert == True:\n",
    "    \n",
    "    y_teste_bert_pred_stem = df['stemming'][X_teste.index.tolist()].progress_apply(lambda linha: teste(linha, corte, modelo_bert_stem)).tolist()"
   ]
  },
  {
   "cell_type": "code",
   "execution_count": 119,
   "id": "6b6f84aa",
   "metadata": {},
   "outputs": [
    {
     "name": "stdout",
     "output_type": "stream",
     "text": [
      "Relatório de classificação:\n",
      "               precision    recall  f1-score   support\n",
      "\n",
      "    Negativo     0.5682    0.3205    0.4098        78\n",
      "    Positivo     0.9617    0.9859    0.9737      1350\n",
      "\n",
      "    accuracy                         0.9496      1428\n",
      "   macro avg     0.7649    0.6532    0.6918      1428\n",
      "weighted avg     0.9402    0.9496    0.9429      1428\n",
      "\n"
     ]
    },
    {
     "data": {
      "image/png": "[encoded data removed]",
      "text/plain": [
       "<Figure size 360x360 with 1 Axes>"
      ]
     },
     "metadata": {
      "needs_background": "light"
     },
     "output_type": "display_data"
    }
   ],
   "source": [
    "if flag_bert == True:\n",
    "    \n",
    "    relatorio_matriz(y_teste_bert_stem, y_teste_bert_pred_stem, digitos = 4)"
   ]
  },
  {
   "cell_type": "markdown",
   "id": "04fdec88",
   "metadata": {},
   "source": [
    "Dos modelos implementados neste notebook, o BERT foi o que apresentou os melhores resultados. Sendo que, o BERT treinado sem o pré-processamento do texto teve de forma geral, previsões mais precisas no teste do que o BERT treinado utilizando o stemming.\n",
    "\n",
    "Seguido pelo RF-BoW que teve a *precisão* e o *f1-score* maiores para o texto sem pré-processamento.\n",
    "\n",
    "E em último lugar a CNN e a LSTM que tiveram um desempenho muito similar para os dois tipos de pré-processamento de texto, ambas prevendo quase sempre a classe como *positivo*, fazendo com que o *recall* e o *f1-score* da classe *negativa* desse 0."
   ]
  }
 ],
 "metadata": {
  "kernelspec": {
   "display_name": "Python 3 (ipykernel)",
   "language": "python",
   "name": "python3"
  },
  "language_info": {
   "codemirror_mode": {
    "name": "ipython",
    "version": 3
   },
   "file_extension": ".py",
   "mimetype": "text/x-python",
   "name": "python",
   "nbconvert_exporter": "python",
   "pygments_lexer": "ipython3",
   "version": "3.9.7"
  }
 },
 "nbformat": 4,
 "nbformat_minor": 5
}
